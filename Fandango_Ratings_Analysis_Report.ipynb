{
 "cells": [
  {
   "cell_type": "markdown",
   "id": "dd66325c-bbb9-4769-be86-85a22ffbf7c8",
   "metadata": {},
   "source": [
    "# Investigating the Biasness in Online Movie Ratings\n",
    "\n",
    "In this project, we delve into the question of whether online movie rating aggregators exhibit bias and dishonesty in their ratings. Our focus is on a detailed examination of Fandango's data, prompted by suspicions raised by data journalist [Walt Hickey's investigation](https://fivethirtyeight.com/features/fandango-movies-ratings/) in 2015.\n",
    "\n",
    "Hickey's analysis uncovered concerning patterns within Fandango's rating system. Specifically, his findings revealed that:\n",
    "\n",
    "- Ratings were consistently rounded up to the nearest half-star, with no instances of rounding down.\n",
    "- Remarkably, almost no movie received a rating lower than three stars (98% of the time). Furthermore, 75% of the ratings were at least four stars.\n",
    "\n",
    "Our project aims to extend this investigation further by analyzing whether Fandango has addressed these biases as promised or if the observed patterns persist in their rating system.\n",
    "\n",
    "**Why should we care?**\n",
    "\n",
    "Understanding the integrity of online movie ratings is crucial for several reasons:\n",
    "\n",
    "- The film industry is a ***significant economic force***, generating billions annually at the U.S. box office. Consequently, the influence of online ratings aggregators on ***consumer decisions*** is substantial.\n",
    "- Fandango, as a prominent player in the movie ticketing market, has a ***vested interest*** in shaping consumer perceptions through its ratings. Their influence extends to direct ticket sales.\n",
    "- Regulatory bodies such as the ***Federal Trade Commission*** are vigilant in safeguarding consumers against deceptive and anti-competitive practices. Monitoring the use of ratings and endorsements is essential in ensuring ***fair and transparent marketplace practices.***\n",
    "\n",
    "Through this investigation, we aim to contribute to a more transparent and accountable online rating ecosystem, empowering consumers and regulatory bodies to make informed decisions."
   ]
  },
  {
   "cell_type": "markdown",
   "id": "290b0032-e210-47a1-b172-15436c1a71db",
   "metadata": {},
   "source": [
    "### Finding the Suitable Dataset\n",
    "\n",
    "We use two different dataset for the investigation: \n",
    "* The 2015 dataset collected by Hickey for his original analysis: fandango_score_comparison.csv. \n",
    "* The dataset collected and published on GitHub for movie ratings data between 2016 and 2017: movie_ratings_16_17.csv.\n",
    "\n",
    "**Population of Interest:** Fandango's rating system containing the entire movie dataset.\n"
   ]
  },
  {
   "cell_type": "code",
   "execution_count": 1,
   "id": "71c53ec4",
   "metadata": {},
   "outputs": [
    {
     "data": {
      "text/html": [
       "<div>\n",
       "<style scoped>\n",
       "    .dataframe tbody tr th:only-of-type {\n",
       "        vertical-align: middle;\n",
       "    }\n",
       "\n",
       "    .dataframe tbody tr th {\n",
       "        vertical-align: top;\n",
       "    }\n",
       "\n",
       "    .dataframe thead th {\n",
       "        text-align: right;\n",
       "    }\n",
       "</style>\n",
       "<table border=\"1\" class=\"dataframe\">\n",
       "  <thead>\n",
       "    <tr style=\"text-align: right;\">\n",
       "      <th></th>\n",
       "      <th>FILM</th>\n",
       "      <th>RottenTomatoes</th>\n",
       "      <th>RottenTomatoes_User</th>\n",
       "      <th>Metacritic</th>\n",
       "      <th>Metacritic_User</th>\n",
       "      <th>IMDB</th>\n",
       "      <th>Fandango_Stars</th>\n",
       "      <th>Fandango_Ratingvalue</th>\n",
       "      <th>RT_norm</th>\n",
       "      <th>RT_user_norm</th>\n",
       "      <th>...</th>\n",
       "      <th>IMDB_norm</th>\n",
       "      <th>RT_norm_round</th>\n",
       "      <th>RT_user_norm_round</th>\n",
       "      <th>Metacritic_norm_round</th>\n",
       "      <th>Metacritic_user_norm_round</th>\n",
       "      <th>IMDB_norm_round</th>\n",
       "      <th>Metacritic_user_vote_count</th>\n",
       "      <th>IMDB_user_vote_count</th>\n",
       "      <th>Fandango_votes</th>\n",
       "      <th>Fandango_Difference</th>\n",
       "    </tr>\n",
       "  </thead>\n",
       "  <tbody>\n",
       "    <tr>\n",
       "      <th>0</th>\n",
       "      <td>Avengers: Age of Ultron (2015)</td>\n",
       "      <td>74</td>\n",
       "      <td>86</td>\n",
       "      <td>66</td>\n",
       "      <td>7.1</td>\n",
       "      <td>7.8</td>\n",
       "      <td>5.0</td>\n",
       "      <td>4.5</td>\n",
       "      <td>3.70</td>\n",
       "      <td>4.3</td>\n",
       "      <td>...</td>\n",
       "      <td>3.90</td>\n",
       "      <td>3.5</td>\n",
       "      <td>4.5</td>\n",
       "      <td>3.5</td>\n",
       "      <td>3.5</td>\n",
       "      <td>4.0</td>\n",
       "      <td>1330</td>\n",
       "      <td>271107</td>\n",
       "      <td>14846</td>\n",
       "      <td>0.5</td>\n",
       "    </tr>\n",
       "    <tr>\n",
       "      <th>1</th>\n",
       "      <td>Cinderella (2015)</td>\n",
       "      <td>85</td>\n",
       "      <td>80</td>\n",
       "      <td>67</td>\n",
       "      <td>7.5</td>\n",
       "      <td>7.1</td>\n",
       "      <td>5.0</td>\n",
       "      <td>4.5</td>\n",
       "      <td>4.25</td>\n",
       "      <td>4.0</td>\n",
       "      <td>...</td>\n",
       "      <td>3.55</td>\n",
       "      <td>4.5</td>\n",
       "      <td>4.0</td>\n",
       "      <td>3.5</td>\n",
       "      <td>4.0</td>\n",
       "      <td>3.5</td>\n",
       "      <td>249</td>\n",
       "      <td>65709</td>\n",
       "      <td>12640</td>\n",
       "      <td>0.5</td>\n",
       "    </tr>\n",
       "    <tr>\n",
       "      <th>2</th>\n",
       "      <td>Ant-Man (2015)</td>\n",
       "      <td>80</td>\n",
       "      <td>90</td>\n",
       "      <td>64</td>\n",
       "      <td>8.1</td>\n",
       "      <td>7.8</td>\n",
       "      <td>5.0</td>\n",
       "      <td>4.5</td>\n",
       "      <td>4.00</td>\n",
       "      <td>4.5</td>\n",
       "      <td>...</td>\n",
       "      <td>3.90</td>\n",
       "      <td>4.0</td>\n",
       "      <td>4.5</td>\n",
       "      <td>3.0</td>\n",
       "      <td>4.0</td>\n",
       "      <td>4.0</td>\n",
       "      <td>627</td>\n",
       "      <td>103660</td>\n",
       "      <td>12055</td>\n",
       "      <td>0.5</td>\n",
       "    </tr>\n",
       "  </tbody>\n",
       "</table>\n",
       "<p>3 rows × 22 columns</p>\n",
       "</div>"
      ],
      "text/plain": [
       "                             FILM  RottenTomatoes  RottenTomatoes_User  \\\n",
       "0  Avengers: Age of Ultron (2015)              74                   86   \n",
       "1               Cinderella (2015)              85                   80   \n",
       "2                  Ant-Man (2015)              80                   90   \n",
       "\n",
       "   Metacritic  Metacritic_User  IMDB  Fandango_Stars  Fandango_Ratingvalue  \\\n",
       "0          66              7.1   7.8             5.0                   4.5   \n",
       "1          67              7.5   7.1             5.0                   4.5   \n",
       "2          64              8.1   7.8             5.0                   4.5   \n",
       "\n",
       "   RT_norm  RT_user_norm  ...  IMDB_norm  RT_norm_round  RT_user_norm_round  \\\n",
       "0     3.70           4.3  ...       3.90            3.5                 4.5   \n",
       "1     4.25           4.0  ...       3.55            4.5                 4.0   \n",
       "2     4.00           4.5  ...       3.90            4.0                 4.5   \n",
       "\n",
       "   Metacritic_norm_round  Metacritic_user_norm_round  IMDB_norm_round  \\\n",
       "0                    3.5                         3.5              4.0   \n",
       "1                    3.5                         4.0              3.5   \n",
       "2                    3.0                         4.0              4.0   \n",
       "\n",
       "   Metacritic_user_vote_count  IMDB_user_vote_count  Fandango_votes  \\\n",
       "0                        1330                271107           14846   \n",
       "1                         249                 65709           12640   \n",
       "2                         627                103660           12055   \n",
       "\n",
       "   Fandango_Difference  \n",
       "0                  0.5  \n",
       "1                  0.5  \n",
       "2                  0.5  \n",
       "\n",
       "[3 rows x 22 columns]"
      ]
     },
     "execution_count": 1,
     "metadata": {},
     "output_type": "execute_result"
    }
   ],
   "source": [
    "import pandas as pd\n",
    "\n",
    "# Import the dataset prior to Hickey's analysis\n",
    "movies_prior = pd.read_csv('./dataset/fandango_score_comparison.csv')\n",
    "\n",
    "movies_prior.head(3)"
   ]
  },
  {
   "cell_type": "code",
   "execution_count": 2,
   "id": "11c936ec",
   "metadata": {},
   "outputs": [
    {
     "data": {
      "text/html": [
       "<div>\n",
       "<style scoped>\n",
       "    .dataframe tbody tr th:only-of-type {\n",
       "        vertical-align: middle;\n",
       "    }\n",
       "\n",
       "    .dataframe tbody tr th {\n",
       "        vertical-align: top;\n",
       "    }\n",
       "\n",
       "    .dataframe thead th {\n",
       "        text-align: right;\n",
       "    }\n",
       "</style>\n",
       "<table border=\"1\" class=\"dataframe\">\n",
       "  <thead>\n",
       "    <tr style=\"text-align: right;\">\n",
       "      <th></th>\n",
       "      <th>movie</th>\n",
       "      <th>year</th>\n",
       "      <th>metascore</th>\n",
       "      <th>imdb</th>\n",
       "      <th>tmeter</th>\n",
       "      <th>audience</th>\n",
       "      <th>fandango</th>\n",
       "      <th>n_metascore</th>\n",
       "      <th>n_imdb</th>\n",
       "      <th>n_tmeter</th>\n",
       "      <th>n_audience</th>\n",
       "      <th>nr_metascore</th>\n",
       "      <th>nr_imdb</th>\n",
       "      <th>nr_tmeter</th>\n",
       "      <th>nr_audience</th>\n",
       "    </tr>\n",
       "  </thead>\n",
       "  <tbody>\n",
       "    <tr>\n",
       "      <th>0</th>\n",
       "      <td>10 Cloverfield Lane</td>\n",
       "      <td>2016</td>\n",
       "      <td>76</td>\n",
       "      <td>7.2</td>\n",
       "      <td>90</td>\n",
       "      <td>79</td>\n",
       "      <td>3.5</td>\n",
       "      <td>3.80</td>\n",
       "      <td>3.60</td>\n",
       "      <td>4.5</td>\n",
       "      <td>3.95</td>\n",
       "      <td>4.0</td>\n",
       "      <td>3.5</td>\n",
       "      <td>4.5</td>\n",
       "      <td>4.0</td>\n",
       "    </tr>\n",
       "    <tr>\n",
       "      <th>1</th>\n",
       "      <td>13 Hours</td>\n",
       "      <td>2016</td>\n",
       "      <td>48</td>\n",
       "      <td>7.3</td>\n",
       "      <td>50</td>\n",
       "      <td>83</td>\n",
       "      <td>4.5</td>\n",
       "      <td>2.40</td>\n",
       "      <td>3.65</td>\n",
       "      <td>2.5</td>\n",
       "      <td>4.15</td>\n",
       "      <td>2.5</td>\n",
       "      <td>3.5</td>\n",
       "      <td>2.5</td>\n",
       "      <td>4.0</td>\n",
       "    </tr>\n",
       "    <tr>\n",
       "      <th>2</th>\n",
       "      <td>A Cure for Wellness</td>\n",
       "      <td>2016</td>\n",
       "      <td>47</td>\n",
       "      <td>6.6</td>\n",
       "      <td>40</td>\n",
       "      <td>47</td>\n",
       "      <td>3.0</td>\n",
       "      <td>2.35</td>\n",
       "      <td>3.30</td>\n",
       "      <td>2.0</td>\n",
       "      <td>2.35</td>\n",
       "      <td>2.5</td>\n",
       "      <td>3.5</td>\n",
       "      <td>2.0</td>\n",
       "      <td>2.5</td>\n",
       "    </tr>\n",
       "  </tbody>\n",
       "</table>\n",
       "</div>"
      ],
      "text/plain": [
       "                 movie  year  metascore  imdb  tmeter  audience  fandango  \\\n",
       "0  10 Cloverfield Lane  2016         76   7.2      90        79       3.5   \n",
       "1             13 Hours  2016         48   7.3      50        83       4.5   \n",
       "2  A Cure for Wellness  2016         47   6.6      40        47       3.0   \n",
       "\n",
       "   n_metascore  n_imdb  n_tmeter  n_audience  nr_metascore  nr_imdb  \\\n",
       "0         3.80    3.60       4.5        3.95           4.0      3.5   \n",
       "1         2.40    3.65       2.5        4.15           2.5      3.5   \n",
       "2         2.35    3.30       2.0        2.35           2.5      3.5   \n",
       "\n",
       "   nr_tmeter  nr_audience  \n",
       "0        4.5          4.0  \n",
       "1        2.5          4.0  \n",
       "2        2.0          2.5  "
      ]
     },
     "execution_count": 2,
     "metadata": {},
     "output_type": "execute_result"
    }
   ],
   "source": [
    "# Import the dataset after Hickey's analysis\n",
    "movies_after = pd.read_csv('./dataset/movie_ratings_16_17.csv')\n",
    "\n",
    "movies_after.head(3)"
   ]
  },
  {
   "cell_type": "markdown",
   "id": "66403c2b",
   "metadata": {},
   "source": [
    "There are a lot of extra information we won't be using in both the datasets. To simplify the datasets, we'll be isolating only the columns we are interested in."
   ]
  },
  {
   "cell_type": "code",
   "execution_count": 3,
   "id": "bd96bbd4",
   "metadata": {},
   "outputs": [
    {
     "name": "stdout",
     "output_type": "stream",
     "text": [
      "<class 'pandas.core.frame.DataFrame'>\n",
      "RangeIndex: 146 entries, 0 to 145\n",
      "Data columns (total 5 columns):\n",
      " #   Column                Non-Null Count  Dtype  \n",
      "---  ------                --------------  -----  \n",
      " 0   FILM                  146 non-null    object \n",
      " 1   Fandango_Stars        146 non-null    float64\n",
      " 2   Fandango_Ratingvalue  146 non-null    float64\n",
      " 3   Fandango_votes        146 non-null    int64  \n",
      " 4   Fandango_Difference   146 non-null    float64\n",
      "dtypes: float64(3), int64(1), object(1)\n",
      "memory usage: 5.8+ KB\n"
     ]
    }
   ],
   "source": [
    "# Isolate the necessary columns from the 1st dataset\n",
    "movies_prior = movies_prior.copy()[['FILM', 'Fandango_Stars', 'Fandango_Ratingvalue', 'Fandango_votes', 'Fandango_Difference']]\n",
    "\n",
    "movies_prior.info()"
   ]
  },
  {
   "cell_type": "code",
   "execution_count": 4,
   "id": "a032f281",
   "metadata": {},
   "outputs": [
    {
     "name": "stdout",
     "output_type": "stream",
     "text": [
      "<class 'pandas.core.frame.DataFrame'>\n",
      "RangeIndex: 214 entries, 0 to 213\n",
      "Data columns (total 3 columns):\n",
      " #   Column    Non-Null Count  Dtype  \n",
      "---  ------    --------------  -----  \n",
      " 0   movie     214 non-null    object \n",
      " 1   year      214 non-null    int64  \n",
      " 2   fandango  214 non-null    float64\n",
      "dtypes: float64(1), int64(1), object(1)\n",
      "memory usage: 5.1+ KB\n"
     ]
    }
   ],
   "source": [
    "# Isolate the necessary columns from the 2nd dataset\n",
    "movies_after = movies_after.copy()[['movie', 'year', 'fandango']]\n",
    "\n",
    "movies_after.info()"
   ]
  },
  {
   "cell_type": "markdown",
   "id": "8a58d482",
   "metadata": {},
   "source": [
    "### Adjusted Goal: Comparing Fandango's Ratings for Popular Movies in 2015 and 2016\n",
    "\n",
    "Given the limitations of the available datasets and the non-random sampling processes involved, we have refined our project goal to focus on comparing Fandango's ratings for popular movies in 2015 and 2016. This adjustment allows us to leverage the available data effectively while minimizing the risk of drawing inaccurate conclusions due to sampling bias.\n",
    "\n",
    "**Methodology:**\n",
    "1. **Data Collection:**\n",
    "* fandango_score_comparison.csv: Contains data on every film with at least 30 fan reviews on Fandango, collected in 2015 by Walt Hickey for his original analysis.\n",
    "* movie_ratings_16_17.csv: Consists of movie ratings data for 214 popular movies released in 2016 and 2017, obtained from a dataset published on GitHub.\n",
    "\n",
    "2. **Population of Interest:** Fandango's entire movie dataset.\n",
    "\n",
    "3. **Sampling Approach:** Recognize that both datasets are not obtained through random sampling and may not be representative of the population of interest.\n",
    "\n",
    "4. **Adjusted Analysis:** Instead of investigating changes in Fandango's rating system over time, we will compare Fandango's ratings for popular movies in 2015 and 2016. This approach allows us to explore potential differences in ratings between the two time periods.\n",
    "\n",
    "5. **Adjusted Population of Interest:**\n",
    "* All Fandango's ratings for popular (30 fan ratings or more) movies released in 2015.\n",
    "* All Fandango's ratings for popular (30 fan ratings or more) movies released in 2016."
   ]
  },
  {
   "cell_type": "markdown",
   "id": "85b333d5",
   "metadata": {},
   "source": [
    "## Clean and Prep the Data for Analysis\n",
    "\n",
    "1. Clean up the column names to standardize two datasets. \n",
    "2. We'll check if both samples contain enough popular movies to be representative of the population.\n",
    "2. Isolate sample points that belong to our population of interest only i.e. 2015 and 2016 movies.\n",
    "3. 1st dataset Avengers: Age of Ultron (2015)\t"
   ]
  },
  {
   "cell_type": "code",
   "execution_count": 5,
   "id": "8432783e",
   "metadata": {},
   "outputs": [
    {
     "data": {
      "text/plain": [
       "Index(['movie', 'fandango_stars', 'fandango_rating_value', 'fandango_votes',\n",
       "       'fandango_difference'],\n",
       "      dtype='object')"
      ]
     },
     "execution_count": 5,
     "metadata": {},
     "output_type": "execute_result"
    }
   ],
   "source": [
    "# Standarize the column names to lowercase\n",
    "movies_prior.columns = movies_prior.columns.str.lower()\n",
    "movies_prior.rename(columns={'fandango_ratingvalue': 'fandango_rating_value', 'film': 'movie'}, inplace=True)\n",
    "\n",
    "movies_prior.columns"
   ]
  },
  {
   "cell_type": "markdown",
   "id": "d0a18f62",
   "metadata": {},
   "source": [
    "Next, we'll check if both datasets have enough popular movies to be representative of the population of interest i.e. 30 ratings or up."
   ]
  },
  {
   "cell_type": "code",
   "execution_count": 6,
   "id": "88d37feb",
   "metadata": {},
   "outputs": [
    {
     "data": {
      "text/plain": [
       "0"
      ]
     },
     "execution_count": 6,
     "metadata": {},
     "output_type": "execute_result"
    }
   ],
   "source": [
    "# Check number of movies less than 30 fan reviews\n",
    "movies_prior.loc[movies_prior['fandango_votes'] < 30, 'movie'].count()"
   ]
  },
  {
   "cell_type": "code",
   "execution_count": 7,
   "id": "61ec69d5",
   "metadata": {},
   "outputs": [
    {
     "data": {
      "text/plain": [
       "'Range: [35 - 34846]'"
      ]
     },
     "execution_count": 7,
     "metadata": {},
     "output_type": "execute_result"
    }
   ],
   "source": [
    "# Get the min and max in the range\n",
    "'Range: [{min_vote} - {max_vote}]'.format(min_vote = movies_prior['fandango_votes'].min(), max_vote = movies_prior['fandango_votes'].max())"
   ]
  },
  {
   "cell_type": "markdown",
   "id": "b6981e18",
   "metadata": {},
   "source": [
    "None of the movies in the dataset prior to Hickey's analysis have less than 30 reviews; they are between 35 and 34,846. This matches our definition of *popular* movies.\n",
    "\n",
    "The second dataset doesn't clearly define their criteria for choosing *popular* movies. This raises represntativity issue. We'll try a different approach."
   ]
  },
  {
   "cell_type": "code",
   "execution_count": 8,
   "id": "2c21c798",
   "metadata": {},
   "outputs": [
    {
     "data": {
      "text/plain": [
       "Series([], Name: count, dtype: int64)"
      ]
     },
     "execution_count": 8,
     "metadata": {},
     "output_type": "execute_result"
    }
   ],
   "source": [
    "# Merge the two dataset - keep all movies from 2nd dataset and common movies from 1st dataset\n",
    "merged_data = pd.merge(left=movies_after, right=movies_prior, how='inner', on='movie')\n",
    "\n",
    "merged_data['fandango_votes'].value_counts(dropna=False)"
   ]
  },
  {
   "cell_type": "markdown",
   "id": "db026927",
   "metadata": {},
   "source": [
    "There are no movies in common between the two dataset. We'll have to come up with a different approach."
   ]
  },
  {
   "cell_type": "markdown",
   "id": "3afe1e5c",
   "metadata": {},
   "source": [
    "### Extract Year from movie column\n",
    "\n",
    "We want to clean the first dataset's movie column and extract the year out of it, which might be useful later on to double-check the year these movies were released to check representativity."
   ]
  },
  {
   "cell_type": "code",
   "execution_count": 9,
   "id": "33b60798",
   "metadata": {},
   "outputs": [
    {
     "data": {
      "text/html": [
       "<div>\n",
       "<style scoped>\n",
       "    .dataframe tbody tr th:only-of-type {\n",
       "        vertical-align: middle;\n",
       "    }\n",
       "\n",
       "    .dataframe tbody tr th {\n",
       "        vertical-align: top;\n",
       "    }\n",
       "\n",
       "    .dataframe thead th {\n",
       "        text-align: right;\n",
       "    }\n",
       "</style>\n",
       "<table border=\"1\" class=\"dataframe\">\n",
       "  <thead>\n",
       "    <tr style=\"text-align: right;\">\n",
       "      <th></th>\n",
       "      <th>movie</th>\n",
       "      <th>fandango_stars</th>\n",
       "      <th>fandango_rating_value</th>\n",
       "      <th>fandango_votes</th>\n",
       "      <th>fandango_difference</th>\n",
       "      <th>year</th>\n",
       "    </tr>\n",
       "  </thead>\n",
       "  <tbody>\n",
       "    <tr>\n",
       "      <th>0</th>\n",
       "      <td>Avengers: Age of Ultron</td>\n",
       "      <td>5.0</td>\n",
       "      <td>4.5</td>\n",
       "      <td>14846</td>\n",
       "      <td>0.5</td>\n",
       "      <td>2015</td>\n",
       "    </tr>\n",
       "    <tr>\n",
       "      <th>1</th>\n",
       "      <td>Cinderella</td>\n",
       "      <td>5.0</td>\n",
       "      <td>4.5</td>\n",
       "      <td>12640</td>\n",
       "      <td>0.5</td>\n",
       "      <td>2015</td>\n",
       "    </tr>\n",
       "    <tr>\n",
       "      <th>2</th>\n",
       "      <td>Ant-Man</td>\n",
       "      <td>5.0</td>\n",
       "      <td>4.5</td>\n",
       "      <td>12055</td>\n",
       "      <td>0.5</td>\n",
       "      <td>2015</td>\n",
       "    </tr>\n",
       "    <tr>\n",
       "      <th>3</th>\n",
       "      <td>Do You Believe?</td>\n",
       "      <td>5.0</td>\n",
       "      <td>4.5</td>\n",
       "      <td>1793</td>\n",
       "      <td>0.5</td>\n",
       "      <td>2015</td>\n",
       "    </tr>\n",
       "    <tr>\n",
       "      <th>4</th>\n",
       "      <td>Hot Tub Time Machine 2</td>\n",
       "      <td>3.5</td>\n",
       "      <td>3.0</td>\n",
       "      <td>1021</td>\n",
       "      <td>0.5</td>\n",
       "      <td>2015</td>\n",
       "    </tr>\n",
       "    <tr>\n",
       "      <th>...</th>\n",
       "      <td>...</td>\n",
       "      <td>...</td>\n",
       "      <td>...</td>\n",
       "      <td>...</td>\n",
       "      <td>...</td>\n",
       "      <td>...</td>\n",
       "    </tr>\n",
       "    <tr>\n",
       "      <th>141</th>\n",
       "      <td>Mr. Holmes</td>\n",
       "      <td>4.0</td>\n",
       "      <td>4.0</td>\n",
       "      <td>1348</td>\n",
       "      <td>0.0</td>\n",
       "      <td>2015</td>\n",
       "    </tr>\n",
       "    <tr>\n",
       "      <th>142</th>\n",
       "      <td>'71</td>\n",
       "      <td>3.5</td>\n",
       "      <td>3.5</td>\n",
       "      <td>192</td>\n",
       "      <td>0.0</td>\n",
       "      <td>2015</td>\n",
       "    </tr>\n",
       "    <tr>\n",
       "      <th>143</th>\n",
       "      <td>Two Days, One Night</td>\n",
       "      <td>3.5</td>\n",
       "      <td>3.5</td>\n",
       "      <td>118</td>\n",
       "      <td>0.0</td>\n",
       "      <td>2014</td>\n",
       "    </tr>\n",
       "    <tr>\n",
       "      <th>144</th>\n",
       "      <td>Gett: The Trial of Viviane Amsalem</td>\n",
       "      <td>3.5</td>\n",
       "      <td>3.5</td>\n",
       "      <td>59</td>\n",
       "      <td>0.0</td>\n",
       "      <td>2015</td>\n",
       "    </tr>\n",
       "    <tr>\n",
       "      <th>145</th>\n",
       "      <td>Kumiko, The Treasure Hunter</td>\n",
       "      <td>3.5</td>\n",
       "      <td>3.5</td>\n",
       "      <td>41</td>\n",
       "      <td>0.0</td>\n",
       "      <td>2015</td>\n",
       "    </tr>\n",
       "  </tbody>\n",
       "</table>\n",
       "<p>146 rows × 6 columns</p>\n",
       "</div>"
      ],
      "text/plain": [
       "                                   movie  fandango_stars  \\\n",
       "0               Avengers: Age of Ultron              5.0   \n",
       "1                            Cinderella              5.0   \n",
       "2                               Ant-Man              5.0   \n",
       "3                       Do You Believe?              5.0   \n",
       "4                Hot Tub Time Machine 2              3.5   \n",
       "..                                   ...             ...   \n",
       "141                          Mr. Holmes              4.0   \n",
       "142                                 '71              3.5   \n",
       "143                 Two Days, One Night              3.5   \n",
       "144  Gett: The Trial of Viviane Amsalem              3.5   \n",
       "145         Kumiko, The Treasure Hunter              3.5   \n",
       "\n",
       "     fandango_rating_value  fandango_votes  fandango_difference  year  \n",
       "0                      4.5           14846                  0.5  2015  \n",
       "1                      4.5           12640                  0.5  2015  \n",
       "2                      4.5           12055                  0.5  2015  \n",
       "3                      4.5            1793                  0.5  2015  \n",
       "4                      3.0            1021                  0.5  2015  \n",
       "..                     ...             ...                  ...   ...  \n",
       "141                    4.0            1348                  0.0  2015  \n",
       "142                    3.5             192                  0.0  2015  \n",
       "143                    3.5             118                  0.0  2014  \n",
       "144                    3.5              59                  0.0  2015  \n",
       "145                    3.5              41                  0.0  2015  \n",
       "\n",
       "[146 rows x 6 columns]"
      ]
     },
     "execution_count": 9,
     "metadata": {},
     "output_type": "execute_result"
    }
   ],
   "source": [
    "# Define regex pattern for year\n",
    "year_pattern = r\"(?P<year>[1-2][0-9]{3})\"\n",
    "\n",
    "# Extract the year and store it in a column\n",
    "movies_prior['year'] = movies_prior['movie'].str.extract(year_pattern)\n",
    "\n",
    "movies_prior['movie'] = movies_prior['movie'].str.split('(').str[0]\n",
    "\n",
    "movies_prior"
   ]
  },
  {
   "cell_type": "markdown",
   "id": "54802a5d",
   "metadata": {},
   "source": [
    "### Isolate Movies Released in 2015 and 2016 from the Dataset\n",
    "Now that the movie name and the year are in separate column, we can find how many movies are not 2015/2016. We'll begin with the frequency distribution of the first dataset and isolate the data for movies release in 2015."
   ]
  },
  {
   "cell_type": "code",
   "execution_count": 10,
   "id": "d192c755",
   "metadata": {},
   "outputs": [
    {
     "data": {
      "text/plain": [
       "year\n",
       "2015    129\n",
       "2014     17\n",
       "Name: count, dtype: int64"
      ]
     },
     "execution_count": 10,
     "metadata": {},
     "output_type": "execute_result"
    }
   ],
   "source": [
    "movies_prior['year'].value_counts()"
   ]
  },
  {
   "cell_type": "code",
   "execution_count": 11,
   "id": "452e4349",
   "metadata": {},
   "outputs": [
    {
     "data": {
      "text/plain": [
       "year\n",
       "2015    129\n",
       "Name: count, dtype: int64"
      ]
     },
     "execution_count": 11,
     "metadata": {},
     "output_type": "execute_result"
    }
   ],
   "source": [
    "movies_2015 = movies_prior[movies_prior['year'] == '2015']\n",
    "\n",
    "movies_2015['year'].value_counts()"
   ]
  },
  {
   "cell_type": "markdown",
   "id": "84fe3817",
   "metadata": {},
   "source": [
    "We'll do the same for the 2nd dataset and isolate the data for year 2016."
   ]
  },
  {
   "cell_type": "code",
   "execution_count": 12,
   "id": "95bc080d",
   "metadata": {},
   "outputs": [
    {
     "data": {
      "text/plain": [
       "year\n",
       "2016    191\n",
       "2017     23\n",
       "Name: count, dtype: int64"
      ]
     },
     "execution_count": 12,
     "metadata": {},
     "output_type": "execute_result"
    }
   ],
   "source": [
    "movies_after['year'].value_counts()"
   ]
  },
  {
   "cell_type": "code",
   "execution_count": 13,
   "id": "7213d459",
   "metadata": {},
   "outputs": [
    {
     "data": {
      "text/plain": [
       "year\n",
       "2016    191\n",
       "Name: count, dtype: int64"
      ]
     },
     "execution_count": 13,
     "metadata": {},
     "output_type": "execute_result"
    }
   ],
   "source": [
    "movies_2016 = movies_after[movies_after['year'] == 2016]\n",
    "\n",
    "movies_2016['year'].value_counts()"
   ]
  }
 ],
 "metadata": {
  "kernelspec": {
   "display_name": "Python 3 (ipykernel)",
   "language": "python",
   "name": "python3"
  },
  "language_info": {
   "codemirror_mode": {
    "name": "ipython",
    "version": 3
   },
   "file_extension": ".py",
   "mimetype": "text/x-python",
   "name": "python",
   "nbconvert_exporter": "python",
   "pygments_lexer": "ipython3",
   "version": "3.9.2"
  }
 },
 "nbformat": 4,
 "nbformat_minor": 5
}
