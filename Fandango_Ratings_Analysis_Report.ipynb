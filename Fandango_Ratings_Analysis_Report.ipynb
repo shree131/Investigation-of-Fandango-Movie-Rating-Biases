{
 "cells": [
  {
   "cell_type": "markdown",
   "id": "dd66325c-bbb9-4769-be86-85a22ffbf7c8",
   "metadata": {},
   "source": [
    "# Investigating Movie Rating Biases: A Case Study of Fandango\n",
    "\n",
    "In this study, we explore the presence of biases and potential dishonesty in online movie rating aggregators, with a specific focus on Fandango. Inspired by data journalist [Walt Hickey's in-depth analysis](https://fivethirtyeight.com/features/fandango-movies-ratings/) published in 2015, our aim is to scrutinize Fandango's rating data for any persistent patterns indicative of bias.\n",
    "\n",
    "Hickey's investigation uncovered significant irregularities within Fandango's rating system, including:\n",
    "\n",
    "* Consistent rounding up of ratings to the nearest half-star, without any instances of rounding down.\n",
    "* An overwhelming prevalence of high ratings; nearly no movies received ratings below three stars (98% of the time), with 75% of ratings falling within the four-star range or higher.\n",
    "\n",
    "**Why should we care?**\n",
    "\n",
    "Understanding the integrity of online movie ratings is crucial for several reasons:\n",
    "\n",
    "- The film industry is a **significant economic force**, generating billions annually at the U.S. box office. Consequently, the influence of online ratings aggregators on **consumer decisions** is substantial.\n",
    "- Fandango, as a prominent player in the movie ticketing market, has a **vested interest** in shaping consumer perceptions through its ratings. Their influence extends to direct ticket sales.\n",
    "- Regulatory bodies such as the **Federal Trade Commission** are vigilant in safeguarding consumers against deceptive and anti-competitive practices. Monitoring the online rating ecosystem for transparency and accountability is essential in ensuring **fair and transparent marketplace practices.**\n",
    "\n",
    "Building upon Hickey's findings, our project seeks to assess whether Fandango has implemented measures to address these biases as previously indicated, or if the observed patterns continue to persist within their rating system. We aim to contribute to a more transparent and accountable rating ecosystem, empowering consumers and regulatory bodies to make informed decisions."
   ]
  },
  {
   "cell_type": "markdown",
   "id": "290b0032-e210-47a1-b172-15436c1a71db",
   "metadata": {},
   "source": [
    "## Finding Suitable Datasets\n",
    "\n",
    "We've chosen to utilize two distinct datasets for our investigation. This approach allows us to compare and analyze Fandango's ratings both before and after Walt Hickey's influential 2015 analysis:\n",
    "\n",
    "1. **The 2015 Dataset**: We'll begin by examining the dataset originally collected by Walt Hickey as part of his comprehensive analysis. The dataset, [fandango_score_comparison.csv](https://github.com/fivethirtyeight/data/blob/master/fandango/fandango_score_comparison.csv), provides a snapshot of Fandango's rating practices before potential adjustments made in response to Hickey's findings.\n",
    "\n",
    "2. **The 2016-2017 Dataset**: In addition to Hickey's dataset, we'll also incorporate a dataset spanning the years 2016 to 2017. This dataset, [movie_ratings_16_17.csv](https://github.com/mircealex/Movie_ratings_2016_17/blob/master/movie_ratings_16_17.csv), provides a more recent perspective on Fandango's ratings landscape, allowing us to assess whether any changes or adjustments have occurred following Hickey's analysis.\n"
   ]
  },
  {
   "cell_type": "markdown",
   "id": "d6a0d5fc",
   "metadata": {},
   "source": [
    "### Load Essential Columns During Data Import\n",
    "After reviewing the documentation for both the [2015](https://github.com/fivethirtyeight/data/blob/master/fandango/README.md) and [2016-2017](https://github.com/mircealex/Movie_ratings_2016_17/blob/master/README.md) datasets, we've identified extraneous columns that won't contribute to our analysis. To streamline the dataset and ensure that only necessary information is loaded into memory, we'll retain the columns vital to our investigation."
   ]
  },
  {
   "cell_type": "code",
   "execution_count": 35,
   "id": "01fe9a3d",
   "metadata": {},
   "outputs": [],
   "source": [
    "# Config option to print all interactive output in a cell\n",
    "from IPython.core.interactiveshell import InteractiveShell\n",
    "\n",
    "InteractiveShell.ast_node_interactivity = \"all\""
   ]
  },
  {
   "cell_type": "code",
   "execution_count": 44,
   "id": "71c53ec4",
   "metadata": {},
   "outputs": [
    {
     "data": {
      "text/html": [
       "<div>\n",
       "<style scoped>\n",
       "    .dataframe tbody tr th:only-of-type {\n",
       "        vertical-align: middle;\n",
       "    }\n",
       "\n",
       "    .dataframe tbody tr th {\n",
       "        vertical-align: top;\n",
       "    }\n",
       "\n",
       "    .dataframe thead th {\n",
       "        text-align: right;\n",
       "    }\n",
       "</style>\n",
       "<table border=\"1\" class=\"dataframe\">\n",
       "  <thead>\n",
       "    <tr style=\"text-align: right;\">\n",
       "      <th></th>\n",
       "      <th>FILM</th>\n",
       "      <th>Fandango_Stars</th>\n",
       "      <th>Fandango_Ratingvalue</th>\n",
       "      <th>Fandango_votes</th>\n",
       "      <th>Fandango_Difference</th>\n",
       "    </tr>\n",
       "  </thead>\n",
       "  <tbody>\n",
       "    <tr>\n",
       "      <th>0</th>\n",
       "      <td>Avengers: Age of Ultron (2015)</td>\n",
       "      <td>5.0</td>\n",
       "      <td>4.5</td>\n",
       "      <td>14846</td>\n",
       "      <td>0.5</td>\n",
       "    </tr>\n",
       "    <tr>\n",
       "      <th>1</th>\n",
       "      <td>Cinderella (2015)</td>\n",
       "      <td>5.0</td>\n",
       "      <td>4.5</td>\n",
       "      <td>12640</td>\n",
       "      <td>0.5</td>\n",
       "    </tr>\n",
       "    <tr>\n",
       "      <th>2</th>\n",
       "      <td>Ant-Man (2015)</td>\n",
       "      <td>5.0</td>\n",
       "      <td>4.5</td>\n",
       "      <td>12055</td>\n",
       "      <td>0.5</td>\n",
       "    </tr>\n",
       "  </tbody>\n",
       "</table>\n",
       "</div>"
      ],
      "text/plain": [
       "                             FILM  Fandango_Stars  Fandango_Ratingvalue  \\\n",
       "0  Avengers: Age of Ultron (2015)             5.0                   4.5   \n",
       "1               Cinderella (2015)             5.0                   4.5   \n",
       "2                  Ant-Man (2015)             5.0                   4.5   \n",
       "\n",
       "   Fandango_votes  Fandango_Difference  \n",
       "0           14846                  0.5  \n",
       "1           12640                  0.5  \n",
       "2           12055                  0.5  "
      ]
     },
     "execution_count": 44,
     "metadata": {},
     "output_type": "execute_result"
    },
    {
     "data": {
      "text/html": [
       "<div>\n",
       "<style scoped>\n",
       "    .dataframe tbody tr th:only-of-type {\n",
       "        vertical-align: middle;\n",
       "    }\n",
       "\n",
       "    .dataframe tbody tr th {\n",
       "        vertical-align: top;\n",
       "    }\n",
       "\n",
       "    .dataframe thead th {\n",
       "        text-align: right;\n",
       "    }\n",
       "</style>\n",
       "<table border=\"1\" class=\"dataframe\">\n",
       "  <thead>\n",
       "    <tr style=\"text-align: right;\">\n",
       "      <th></th>\n",
       "      <th>FILM</th>\n",
       "      <th>Fandango_Stars</th>\n",
       "      <th>Fandango_Ratingvalue</th>\n",
       "      <th>Fandango_votes</th>\n",
       "      <th>Fandango_Difference</th>\n",
       "    </tr>\n",
       "  </thead>\n",
       "  <tbody>\n",
       "    <tr>\n",
       "      <th>143</th>\n",
       "      <td>Two Days, One Night (2014)</td>\n",
       "      <td>3.5</td>\n",
       "      <td>3.5</td>\n",
       "      <td>118</td>\n",
       "      <td>0.0</td>\n",
       "    </tr>\n",
       "    <tr>\n",
       "      <th>144</th>\n",
       "      <td>Gett: The Trial of Viviane Amsalem (2015)</td>\n",
       "      <td>3.5</td>\n",
       "      <td>3.5</td>\n",
       "      <td>59</td>\n",
       "      <td>0.0</td>\n",
       "    </tr>\n",
       "    <tr>\n",
       "      <th>145</th>\n",
       "      <td>Kumiko, The Treasure Hunter (2015)</td>\n",
       "      <td>3.5</td>\n",
       "      <td>3.5</td>\n",
       "      <td>41</td>\n",
       "      <td>0.0</td>\n",
       "    </tr>\n",
       "  </tbody>\n",
       "</table>\n",
       "</div>"
      ],
      "text/plain": [
       "                                          FILM  Fandango_Stars  \\\n",
       "143                 Two Days, One Night (2014)             3.5   \n",
       "144  Gett: The Trial of Viviane Amsalem (2015)             3.5   \n",
       "145         Kumiko, The Treasure Hunter (2015)             3.5   \n",
       "\n",
       "     Fandango_Ratingvalue  Fandango_votes  Fandango_Difference  \n",
       "143                   3.5             118                  0.0  \n",
       "144                   3.5              59                  0.0  \n",
       "145                   3.5              41                  0.0  "
      ]
     },
     "execution_count": 44,
     "metadata": {},
     "output_type": "execute_result"
    }
   ],
   "source": [
    "import pandas as pd\n",
    "\n",
    "# Columns to import from first dataset\n",
    "columns = ['FILM', 'Fandango_Stars', 'Fandango_Ratingvalue', 'Fandango_votes', 'Fandango_Difference']\n",
    "\n",
    "# Import dataset prior to Hickey's analysis\n",
    "movies_prior = pd.read_csv('./dataset/fandango_score_comparison.csv', usecols=columns)\n",
    "\n",
    "movies_prior.head(3)\n",
    "movies_prior.tail(3)"
   ]
  },
  {
   "cell_type": "code",
   "execution_count": 45,
   "id": "11c936ec",
   "metadata": {},
   "outputs": [
    {
     "data": {
      "text/html": [
       "<div>\n",
       "<style scoped>\n",
       "    .dataframe tbody tr th:only-of-type {\n",
       "        vertical-align: middle;\n",
       "    }\n",
       "\n",
       "    .dataframe tbody tr th {\n",
       "        vertical-align: top;\n",
       "    }\n",
       "\n",
       "    .dataframe thead th {\n",
       "        text-align: right;\n",
       "    }\n",
       "</style>\n",
       "<table border=\"1\" class=\"dataframe\">\n",
       "  <thead>\n",
       "    <tr style=\"text-align: right;\">\n",
       "      <th></th>\n",
       "      <th>movie</th>\n",
       "      <th>year</th>\n",
       "      <th>fandango</th>\n",
       "    </tr>\n",
       "  </thead>\n",
       "  <tbody>\n",
       "    <tr>\n",
       "      <th>0</th>\n",
       "      <td>10 Cloverfield Lane</td>\n",
       "      <td>2016</td>\n",
       "      <td>3.5</td>\n",
       "    </tr>\n",
       "    <tr>\n",
       "      <th>1</th>\n",
       "      <td>13 Hours</td>\n",
       "      <td>2016</td>\n",
       "      <td>4.5</td>\n",
       "    </tr>\n",
       "    <tr>\n",
       "      <th>2</th>\n",
       "      <td>A Cure for Wellness</td>\n",
       "      <td>2016</td>\n",
       "      <td>3.0</td>\n",
       "    </tr>\n",
       "  </tbody>\n",
       "</table>\n",
       "</div>"
      ],
      "text/plain": [
       "                 movie  year  fandango\n",
       "0  10 Cloverfield Lane  2016       3.5\n",
       "1             13 Hours  2016       4.5\n",
       "2  A Cure for Wellness  2016       3.0"
      ]
     },
     "execution_count": 45,
     "metadata": {},
     "output_type": "execute_result"
    },
    {
     "data": {
      "text/html": [
       "<div>\n",
       "<style scoped>\n",
       "    .dataframe tbody tr th:only-of-type {\n",
       "        vertical-align: middle;\n",
       "    }\n",
       "\n",
       "    .dataframe tbody tr th {\n",
       "        vertical-align: top;\n",
       "    }\n",
       "\n",
       "    .dataframe thead th {\n",
       "        text-align: right;\n",
       "    }\n",
       "</style>\n",
       "<table border=\"1\" class=\"dataframe\">\n",
       "  <thead>\n",
       "    <tr style=\"text-align: right;\">\n",
       "      <th></th>\n",
       "      <th>movie</th>\n",
       "      <th>year</th>\n",
       "      <th>fandango</th>\n",
       "    </tr>\n",
       "  </thead>\n",
       "  <tbody>\n",
       "    <tr>\n",
       "      <th>211</th>\n",
       "      <td>xXx: Return of Xander Cage</td>\n",
       "      <td>2017</td>\n",
       "      <td>4.0</td>\n",
       "    </tr>\n",
       "    <tr>\n",
       "      <th>212</th>\n",
       "      <td>Zoolander 2</td>\n",
       "      <td>2016</td>\n",
       "      <td>2.5</td>\n",
       "    </tr>\n",
       "    <tr>\n",
       "      <th>213</th>\n",
       "      <td>Zootopia</td>\n",
       "      <td>2016</td>\n",
       "      <td>4.5</td>\n",
       "    </tr>\n",
       "  </tbody>\n",
       "</table>\n",
       "</div>"
      ],
      "text/plain": [
       "                          movie  year  fandango\n",
       "211  xXx: Return of Xander Cage  2017       4.0\n",
       "212                 Zoolander 2  2016       2.5\n",
       "213                    Zootopia  2016       4.5"
      ]
     },
     "execution_count": 45,
     "metadata": {},
     "output_type": "execute_result"
    }
   ],
   "source": [
    "# Columns to import for second dataset\n",
    "columns = ['movie', 'year', 'fandango']\n",
    "\n",
    "# Import dataset after Hickey's analysis\n",
    "movies_after = pd.read_csv('./dataset/movie_ratings_16_17.csv', usecols=columns)\n",
    "\n",
    "movies_after.head(3)\n",
    "movies_after.tail(3)"
   ]
  },
  {
   "cell_type": "markdown",
   "id": "3eaa2ed4",
   "metadata": {},
   "source": [
    "Now, we'll get a high-level overview of both datasets, providing a basic understanding of the structure and content of each dataset."
   ]
  },
  {
   "cell_type": "code",
   "execution_count": 55,
   "id": "bd96bbd4",
   "metadata": {},
   "outputs": [
    {
     "data": {
      "text/plain": [
       "'---------- 2015 Dataset ----------->'"
      ]
     },
     "execution_count": 55,
     "metadata": {},
     "output_type": "execute_result"
    },
    {
     "name": "stdout",
     "output_type": "stream",
     "text": [
      "<class 'pandas.core.frame.DataFrame'>\n",
      "RangeIndex: 146 entries, 0 to 145\n",
      "Data columns (total 5 columns):\n",
      " #   Column                Non-Null Count  Dtype  \n",
      "---  ------                --------------  -----  \n",
      " 0   FILM                  146 non-null    object \n",
      " 1   Fandango_Stars        146 non-null    float64\n",
      " 2   Fandango_Ratingvalue  146 non-null    float64\n",
      " 3   Fandango_votes        146 non-null    int64  \n",
      " 4   Fandango_Difference   146 non-null    float64\n",
      "dtypes: float64(3), int64(1), object(1)\n",
      "memory usage: 5.8+ KB\n"
     ]
    },
    {
     "data": {
      "text/plain": [
       "'<-------- 2016-2017 Dataset ------->'"
      ]
     },
     "execution_count": 55,
     "metadata": {},
     "output_type": "execute_result"
    },
    {
     "name": "stdout",
     "output_type": "stream",
     "text": [
      "<class 'pandas.core.frame.DataFrame'>\n",
      "RangeIndex: 214 entries, 0 to 213\n",
      "Data columns (total 3 columns):\n",
      " #   Column    Non-Null Count  Dtype  \n",
      "---  ------    --------------  -----  \n",
      " 0   movie     214 non-null    object \n",
      " 1   year      214 non-null    int64  \n",
      " 2   fandango  214 non-null    float64\n",
      "dtypes: float64(1), int64(1), object(1)\n",
      "memory usage: 5.1+ KB\n"
     ]
    }
   ],
   "source": [
    "'---------- 2015 Dataset ----------->'\n",
    "movies_prior.info()\n",
    "\n",
    "'<-------- 2016-2017 Dataset ------->'\n",
    "movies_after.info()"
   ]
  },
  {
   "cell_type": "markdown",
   "id": "1b41710d",
   "metadata": {},
   "source": [
    "**Initial Observations:**\n",
    "\n",
    "* The first dataset comprises 146 entries (movies) spread across 5 columns, while the second dataset consists of 214 entries (movies) and 3 columns.\n",
    "* Both datasets exhibit completeness, with no missing values observed (non-null counts align with the total number of entries).\n",
    "* Data types are consistent with the documentation and are optimal for our analysis needs.\n",
    "* There is a disparity in the naming conventions of the column headers between the two datasets. Standardizing them would maintain consistency and clarity throughout the report.\n",
    "* The first dataset has the year in paenthesis in the movie name. We'll want to clean this up by isolating the movie name and separating the year into a different column."
   ]
  },
  {
   "cell_type": "markdown",
   "id": "8a58d482",
   "metadata": {},
   "source": [
    "### Adjust Initial Goal to Minimize Sampling Error\n",
    "\n",
    "**Methodology:**\n",
    "1. **Data Collection:**\n",
    "* fandango_score_comparison.csv: Contains data on every film with **at least 30 fan reviews** on Fandango, collected in **2015**.\n",
    "* movie_ratings_16_17.csv: Consists of movie ratings data for **214 popular movies** released in **2016** and **2017**.\n",
    "\n",
    "2. **Population of Interest:** Fandango's entire movie dataset.\n",
    "\n",
    "3. **Sampling Approach:** Recognize that both datasets are not obtained through random sampling and may not be representative of the population of interest.\n",
    "\n",
    "4. **Adjusted Analysis:** Instead of investigating changes in Fandango's rating system over time, we will compare Fandango's ratings for popular movies **(30 reviews and up)** in **2015** and **2016**. This approach allows us to explore potential differences in ratings between the two time periods.\n",
    "\n",
    "5. **Adjusted Population of Interest:** All Fandango's ratings for popular movies released in 2015 and 2016.\n",
    "\n",
    "Given the limitations of the available datasets and the non-random sampling processes involved, we have refined our project goal to focus on comparing Fandango's ratings for popular movies in 2015 and 2016. This adjustment allows us to leverage the available data effectively while minimizing the risk of drawing inaccurate conclusions due to sampling bias."
   ]
  },
  {
   "cell_type": "markdown",
   "id": "85b333d5",
   "metadata": {},
   "source": [
    "## Clean and Prep the Data for Analysis\n",
    "\n",
    "1. Clean up the column names to standardize two datasets. \n",
    "2. We'll check if both samples contain enough popular movies to be representative of the population.\n",
    "2. Isolate sample points that belong to our population of interest only i.e. 2015 and 2016 movies.\n",
    "3. 1st dataset Avengers: Age of Ultron (2015)\t"
   ]
  },
  {
   "cell_type": "markdown",
   "id": "2012bf81",
   "metadata": {},
   "source": [
    "### 1. Standarize Column Names for Both Datasets"
   ]
  },
  {
   "cell_type": "markdown",
   "id": "2589753b",
   "metadata": {},
   "source": [
    "We'll standarize the column names to lowercase and match names for similar columns."
   ]
  },
  {
   "cell_type": "code",
   "execution_count": 58,
   "id": "8432783e",
   "metadata": {},
   "outputs": [
    {
     "data": {
      "text/plain": [
       "Index(['movie', 'fandango_stars', 'fandango_rating_value', 'fandango_votes',\n",
       "       'fandango_difference'],\n",
       "      dtype='object')"
      ]
     },
     "execution_count": 58,
     "metadata": {},
     "output_type": "execute_result"
    }
   ],
   "source": [
    "# Change first dataset's column header to lowercase\n",
    "movies_prior.columns = movies_prior.columns.str.lower()\n",
    "\n",
    "# Map the column names to the desired names\n",
    "movies_prior.rename(columns={'fandango_ratingvalue': 'fandango_rating_value', 'film': 'movie'}, inplace=True)\n",
    "\n",
    "# Display updated column header\n",
    "movies_prior.columns"
   ]
  },
  {
   "cell_type": "markdown",
   "id": "d0a18f62",
   "metadata": {},
   "source": [
    "### 2. Determine Population Representativity of Datasets** \n",
    "\n",
    "Defined as:\n",
    "1. Check the rating is 30 and up.\n",
    "2. Movies released in 2015 and 2016 only."
   ]
  },
  {
   "cell_type": "markdown",
   "id": "dbc89433",
   "metadata": {},
   "source": [
    "**30 and up**\n",
    "\n",
    "Next, we'll check if both datasets have enough popular movies to be representative of the population of interest i.e. 30 ratings or up.\n",
    "We'll begin with the first dataset."
   ]
  },
  {
   "cell_type": "code",
   "execution_count": 60,
   "id": "88d37feb",
   "metadata": {},
   "outputs": [
    {
     "data": {
      "text/plain": [
       "0"
      ]
     },
     "execution_count": 60,
     "metadata": {},
     "output_type": "execute_result"
    }
   ],
   "source": [
    "# Number of movies with less than 30 fan reviews\n",
    "movies_prior.loc[movies_prior['fandango_votes'] < 30, 'movie'].count()"
   ]
  },
  {
   "cell_type": "code",
   "execution_count": 59,
   "id": "61ec69d5",
   "metadata": {},
   "outputs": [
    {
     "data": {
      "text/plain": [
       "'Range: [35 - 34846]'"
      ]
     },
     "execution_count": 59,
     "metadata": {},
     "output_type": "execute_result"
    }
   ],
   "source": [
    "# Get the min and max reviews in the first dataset\n",
    "min_reviews = movies_prior['fandango_votes'].min()\n",
    "max_reviews = movies_prior['fandango_votes'].max()\n",
    "\n",
    "'Range: [{} - {}]'.format(min_reviews, max_reviews)"
   ]
  },
  {
   "cell_type": "markdown",
   "id": "b6981e18",
   "metadata": {},
   "source": [
    "None of the movies in the first dataset (prior to Hickey's analysis) have less than 30 reviews; they are between the range 35 and 34,846. This matches the expectation of *popular* movies as defined in our population of interest.\n",
    "\n",
    "The documentation for the second dataset doesn't clearly reveal their criteria for *popular* movies. This raises represntativity issue. We can try to merge the two datasets and see if they have movies in common that could give further insights about the second dataset's movies."
   ]
  },
  {
   "cell_type": "code",
   "execution_count": 8,
   "id": "2c21c798",
   "metadata": {},
   "outputs": [
    {
     "data": {
      "text/plain": [
       "Series([], Name: count, dtype: int64)"
      ]
     },
     "execution_count": 8,
     "metadata": {},
     "output_type": "execute_result"
    }
   ],
   "source": [
    "# Merge the two dataset - keep all movies from 2nd dataset and common movies from 1st dataset\n",
    "merged_data = pd.merge(left=movies_after, right=movies_prior, how='inner', on='movie')\n",
    "\n",
    "merged_data['fandango_votes'].value_counts(dropna=False)"
   ]
  },
  {
   "cell_type": "markdown",
   "id": "db026927",
   "metadata": {},
   "source": [
    "There are no movies in common between the two dataset. We'll have to come up with a different approach."
   ]
  },
  {
   "cell_type": "markdown",
   "id": "3afe1e5c",
   "metadata": {},
   "source": [
    "**Extract Year from movie column**\n",
    "\n",
    "We want to clean the first dataset's movie column and extract the year out of it, which might be useful later on to double-check the year these movies were released to check representativity."
   ]
  },
  {
   "cell_type": "code",
   "execution_count": 9,
   "id": "33b60798",
   "metadata": {},
   "outputs": [
    {
     "data": {
      "text/html": [
       "<div>\n",
       "<style scoped>\n",
       "    .dataframe tbody tr th:only-of-type {\n",
       "        vertical-align: middle;\n",
       "    }\n",
       "\n",
       "    .dataframe tbody tr th {\n",
       "        vertical-align: top;\n",
       "    }\n",
       "\n",
       "    .dataframe thead th {\n",
       "        text-align: right;\n",
       "    }\n",
       "</style>\n",
       "<table border=\"1\" class=\"dataframe\">\n",
       "  <thead>\n",
       "    <tr style=\"text-align: right;\">\n",
       "      <th></th>\n",
       "      <th>movie</th>\n",
       "      <th>fandango_stars</th>\n",
       "      <th>fandango_rating_value</th>\n",
       "      <th>fandango_votes</th>\n",
       "      <th>fandango_difference</th>\n",
       "      <th>year</th>\n",
       "    </tr>\n",
       "  </thead>\n",
       "  <tbody>\n",
       "    <tr>\n",
       "      <th>0</th>\n",
       "      <td>Avengers: Age of Ultron</td>\n",
       "      <td>5.0</td>\n",
       "      <td>4.5</td>\n",
       "      <td>14846</td>\n",
       "      <td>0.5</td>\n",
       "      <td>2015</td>\n",
       "    </tr>\n",
       "    <tr>\n",
       "      <th>1</th>\n",
       "      <td>Cinderella</td>\n",
       "      <td>5.0</td>\n",
       "      <td>4.5</td>\n",
       "      <td>12640</td>\n",
       "      <td>0.5</td>\n",
       "      <td>2015</td>\n",
       "    </tr>\n",
       "    <tr>\n",
       "      <th>2</th>\n",
       "      <td>Ant-Man</td>\n",
       "      <td>5.0</td>\n",
       "      <td>4.5</td>\n",
       "      <td>12055</td>\n",
       "      <td>0.5</td>\n",
       "      <td>2015</td>\n",
       "    </tr>\n",
       "    <tr>\n",
       "      <th>3</th>\n",
       "      <td>Do You Believe?</td>\n",
       "      <td>5.0</td>\n",
       "      <td>4.5</td>\n",
       "      <td>1793</td>\n",
       "      <td>0.5</td>\n",
       "      <td>2015</td>\n",
       "    </tr>\n",
       "    <tr>\n",
       "      <th>4</th>\n",
       "      <td>Hot Tub Time Machine 2</td>\n",
       "      <td>3.5</td>\n",
       "      <td>3.0</td>\n",
       "      <td>1021</td>\n",
       "      <td>0.5</td>\n",
       "      <td>2015</td>\n",
       "    </tr>\n",
       "    <tr>\n",
       "      <th>...</th>\n",
       "      <td>...</td>\n",
       "      <td>...</td>\n",
       "      <td>...</td>\n",
       "      <td>...</td>\n",
       "      <td>...</td>\n",
       "      <td>...</td>\n",
       "    </tr>\n",
       "    <tr>\n",
       "      <th>141</th>\n",
       "      <td>Mr. Holmes</td>\n",
       "      <td>4.0</td>\n",
       "      <td>4.0</td>\n",
       "      <td>1348</td>\n",
       "      <td>0.0</td>\n",
       "      <td>2015</td>\n",
       "    </tr>\n",
       "    <tr>\n",
       "      <th>142</th>\n",
       "      <td>'71</td>\n",
       "      <td>3.5</td>\n",
       "      <td>3.5</td>\n",
       "      <td>192</td>\n",
       "      <td>0.0</td>\n",
       "      <td>2015</td>\n",
       "    </tr>\n",
       "    <tr>\n",
       "      <th>143</th>\n",
       "      <td>Two Days, One Night</td>\n",
       "      <td>3.5</td>\n",
       "      <td>3.5</td>\n",
       "      <td>118</td>\n",
       "      <td>0.0</td>\n",
       "      <td>2014</td>\n",
       "    </tr>\n",
       "    <tr>\n",
       "      <th>144</th>\n",
       "      <td>Gett: The Trial of Viviane Amsalem</td>\n",
       "      <td>3.5</td>\n",
       "      <td>3.5</td>\n",
       "      <td>59</td>\n",
       "      <td>0.0</td>\n",
       "      <td>2015</td>\n",
       "    </tr>\n",
       "    <tr>\n",
       "      <th>145</th>\n",
       "      <td>Kumiko, The Treasure Hunter</td>\n",
       "      <td>3.5</td>\n",
       "      <td>3.5</td>\n",
       "      <td>41</td>\n",
       "      <td>0.0</td>\n",
       "      <td>2015</td>\n",
       "    </tr>\n",
       "  </tbody>\n",
       "</table>\n",
       "<p>146 rows × 6 columns</p>\n",
       "</div>"
      ],
      "text/plain": [
       "                                   movie  fandango_stars  \\\n",
       "0               Avengers: Age of Ultron              5.0   \n",
       "1                            Cinderella              5.0   \n",
       "2                               Ant-Man              5.0   \n",
       "3                       Do You Believe?              5.0   \n",
       "4                Hot Tub Time Machine 2              3.5   \n",
       "..                                   ...             ...   \n",
       "141                          Mr. Holmes              4.0   \n",
       "142                                 '71              3.5   \n",
       "143                 Two Days, One Night              3.5   \n",
       "144  Gett: The Trial of Viviane Amsalem              3.5   \n",
       "145         Kumiko, The Treasure Hunter              3.5   \n",
       "\n",
       "     fandango_rating_value  fandango_votes  fandango_difference  year  \n",
       "0                      4.5           14846                  0.5  2015  \n",
       "1                      4.5           12640                  0.5  2015  \n",
       "2                      4.5           12055                  0.5  2015  \n",
       "3                      4.5            1793                  0.5  2015  \n",
       "4                      3.0            1021                  0.5  2015  \n",
       "..                     ...             ...                  ...   ...  \n",
       "141                    4.0            1348                  0.0  2015  \n",
       "142                    3.5             192                  0.0  2015  \n",
       "143                    3.5             118                  0.0  2014  \n",
       "144                    3.5              59                  0.0  2015  \n",
       "145                    3.5              41                  0.0  2015  \n",
       "\n",
       "[146 rows x 6 columns]"
      ]
     },
     "execution_count": 9,
     "metadata": {},
     "output_type": "execute_result"
    }
   ],
   "source": [
    "# Define regex pattern for year\n",
    "year_pattern = r\"(?P<year>[1-2][0-9]{3})\"\n",
    "\n",
    "# Extract the year and store it in a column\n",
    "movies_prior['year'] = movies_prior['movie'].str.extract(year_pattern)\n",
    "\n",
    "movies_prior['movie'] = movies_prior['movie'].str.split('(').str[0]\n",
    "\n",
    "movies_prior"
   ]
  },
  {
   "cell_type": "markdown",
   "id": "54802a5d",
   "metadata": {},
   "source": [
    "### 3. Isolate Movies Released in 2015 and 2016 from the Dataset\n",
    "Now that the movie name and the year are in separate column, we can find how many movies are not 2015/2016. We'll begin with the frequency distribution of the first dataset and isolate the data for movies release in 2015."
   ]
  },
  {
   "cell_type": "code",
   "execution_count": 10,
   "id": "d192c755",
   "metadata": {},
   "outputs": [
    {
     "data": {
      "text/plain": [
       "year\n",
       "2015    129\n",
       "2014     17\n",
       "Name: count, dtype: int64"
      ]
     },
     "execution_count": 10,
     "metadata": {},
     "output_type": "execute_result"
    }
   ],
   "source": [
    "movies_prior['year'].value_counts()"
   ]
  },
  {
   "cell_type": "code",
   "execution_count": 11,
   "id": "452e4349",
   "metadata": {},
   "outputs": [
    {
     "data": {
      "text/plain": [
       "year\n",
       "2015    129\n",
       "Name: count, dtype: int64"
      ]
     },
     "execution_count": 11,
     "metadata": {},
     "output_type": "execute_result"
    }
   ],
   "source": [
    "movies_2015 = movies_prior[movies_prior['year'] == '2015']\n",
    "\n",
    "movies_2015['year'].value_counts()"
   ]
  },
  {
   "cell_type": "markdown",
   "id": "84fe3817",
   "metadata": {},
   "source": [
    "We'll do the same for the 2nd dataset and isolate the data for year 2016."
   ]
  },
  {
   "cell_type": "code",
   "execution_count": 12,
   "id": "95bc080d",
   "metadata": {},
   "outputs": [
    {
     "data": {
      "text/plain": [
       "year\n",
       "2016    191\n",
       "2017     23\n",
       "Name: count, dtype: int64"
      ]
     },
     "execution_count": 12,
     "metadata": {},
     "output_type": "execute_result"
    }
   ],
   "source": [
    "movies_after['year'].value_counts()"
   ]
  },
  {
   "cell_type": "code",
   "execution_count": 13,
   "id": "7213d459",
   "metadata": {},
   "outputs": [
    {
     "data": {
      "text/plain": [
       "year\n",
       "2016    191\n",
       "Name: count, dtype: int64"
      ]
     },
     "execution_count": 13,
     "metadata": {},
     "output_type": "execute_result"
    }
   ],
   "source": [
    "movies_2016 = movies_after[movies_after['year'] == 2016]\n",
    "\n",
    "movies_2016['year'].value_counts()"
   ]
  },
  {
   "cell_type": "markdown",
   "id": "86f787b1",
   "metadata": {},
   "source": [
    "## Analysis: Comparing the Distribution Shapes for 2015 and 2016 Movies\n",
    "\n",
    "We'll start by a high level comparision between the two dataset by plotting a kernel distribution plots. Again, the goal is to look at the ratings distribution to see how has fandango's rating distribution different in 2016 from 2015. "
   ]
  },
  {
   "cell_type": "code",
   "execution_count": 14,
   "id": "31d434f5",
   "metadata": {},
   "outputs": [
    {
     "name": "stderr",
     "output_type": "stream",
     "text": [
      "c:\\Users\\shree\\AppData\\Local\\Programs\\Python\\Python39\\lib\\site-packages\\scipy\\__init__.py:146: UserWarning: A NumPy version >=1.16.5 and <1.23.0 is required for this version of SciPy (detected version 1.26.4\n",
      "  warnings.warn(f\"A NumPy version >={np_minversion} and <{np_maxversion}\"\n"
     ]
    },
    {
     "data": {
      "text/plain": [
       "<Axes: xlabel='fandango_stars', ylabel='Density'>"
      ]
     },
     "execution_count": 14,
     "metadata": {},
     "output_type": "execute_result"
    },
    {
     "data": {
      "text/plain": [
       "<Axes: xlabel='fandango_stars', ylabel='Density'>"
      ]
     },
     "execution_count": 14,
     "metadata": {},
     "output_type": "execute_result"
    },
    {
     "data": {
      "text/plain": [
       "Text(0.5, 1.0, 'Rating Distribution in 2015 and 2016')"
      ]
     },
     "execution_count": 14,
     "metadata": {},
     "output_type": "execute_result"
    },
    {
     "data": {
      "text/plain": [
       "Text(0.5, 0, 'Rating')"
      ]
     },
     "execution_count": 14,
     "metadata": {},
     "output_type": "execute_result"
    },
    {
     "data": {
      "text/plain": [
       "(0.0, 5.0)"
      ]
     },
     "execution_count": 14,
     "metadata": {},
     "output_type": "execute_result"
    },
    {
     "data": {
      "text/plain": [
       "([<matplotlib.axis.XTick at 0x181055e12e0>,\n",
       "  <matplotlib.axis.XTick at 0x181055e12b0>,\n",
       "  <matplotlib.axis.XTick at 0x181055f47c0>,\n",
       "  <matplotlib.axis.XTick at 0x18105629d00>,\n",
       "  <matplotlib.axis.XTick at 0x18109661b50>,\n",
       "  <matplotlib.axis.XTick at 0x18109664640>,\n",
       "  <matplotlib.axis.XTick at 0x181096612e0>,\n",
       "  <matplotlib.axis.XTick at 0x1810966d250>,\n",
       "  <matplotlib.axis.XTick at 0x1810966dd00>,\n",
       "  <matplotlib.axis.XTick at 0x181055c8a90>,\n",
       "  <matplotlib.axis.XTick at 0x18109688b50>],\n",
       " [Text(0.0, 0, '0.0'),\n",
       "  Text(0.5, 0, '0.5'),\n",
       "  Text(1.0, 0, '1.0'),\n",
       "  Text(1.5, 0, '1.5'),\n",
       "  Text(2.0, 0, '2.0'),\n",
       "  Text(2.5, 0, '2.5'),\n",
       "  Text(3.0, 0, '3.0'),\n",
       "  Text(3.5, 0, '3.5'),\n",
       "  Text(4.0, 0, '4.0'),\n",
       "  Text(4.5, 0, '4.5'),\n",
       "  Text(5.0, 0, '5.0')])"
      ]
     },
     "execution_count": 14,
     "metadata": {},
     "output_type": "execute_result"
    },
    {
     "data": {
      "text/plain": [
       "<matplotlib.legend.Legend at 0x18105629670>"
      ]
     },
     "execution_count": 14,
     "metadata": {},
     "output_type": "execute_result"
    },
    {
     "data": {
      "image/png": "[encoded data removed]",
      "text/plain": [
       "<Figure size 640x480 with 1 Axes>"
      ]
     },
     "metadata": {},
     "output_type": "display_data"
    }
   ],
   "source": [
    "import seaborn as sns, matplotlib.pyplot as plt\n",
    "from numpy import arange\n",
    "%matplotlib inline\n",
    "\n",
    "sns.kdeplot(data=movies_2015, x='fandango_stars', label='2015', fill=True)\n",
    "sns.kdeplot(data=movies_2016, x='fandango', label='2016', fill=True)\n",
    "\n",
    "plt.title('Rating Distribution in 2015 and 2016', size='x-large')\n",
    "plt.xlabel('Rating')\n",
    "plt.xlim(0, 5)\n",
    "plt.xticks(arange(0.0, 5.1, .5))\n",
    "plt.legend()\n",
    "plt.show()\n"
   ]
  },
  {
   "cell_type": "markdown",
   "id": "1e53a486",
   "metadata": {},
   "source": [
    "- Both are heavily left skewed with more higher ratings.\n",
    "- 2016 looks more like a normal distribution.\n",
    "- 2015 is slightly left skewed compared to 2016.\n",
    "- 2016 is shifted slightly to the left, suggesting the difference in the ratings were lower compared to 2015"
   ]
  },
  {
   "cell_type": "code",
   "execution_count": 15,
   "id": "4052693e",
   "metadata": {},
   "outputs": [
    {
     "data": {
      "text/plain": [
       "count    129.000000\n",
       "mean       4.085271\n",
       "std        0.538096\n",
       "min        3.000000\n",
       "25%        3.500000\n",
       "50%        4.000000\n",
       "75%        4.500000\n",
       "max        5.000000\n",
       "Name: fandango_stars, dtype: float64"
      ]
     },
     "execution_count": 15,
     "metadata": {},
     "output_type": "execute_result"
    }
   ],
   "source": [
    "movies_2015['fandango_stars'].describe()"
   ]
  },
  {
   "cell_type": "code",
   "execution_count": 16,
   "id": "471bd243",
   "metadata": {},
   "outputs": [
    {
     "data": {
      "text/plain": [
       "count    191.000000\n",
       "mean       3.887435\n",
       "std        0.509540\n",
       "min        2.500000\n",
       "25%        3.500000\n",
       "50%        4.000000\n",
       "75%        4.250000\n",
       "max        5.000000\n",
       "Name: fandango, dtype: float64"
      ]
     },
     "execution_count": 16,
     "metadata": {},
     "output_type": "execute_result"
    }
   ],
   "source": [
    "movies_2016['fandango'].describe()"
   ]
  },
  {
   "cell_type": "markdown",
   "id": "3cd95158",
   "metadata": {},
   "source": [
    "The 2016 data shows slightly more variations in 2.5 to 5.0 vs in 2015: 3.0 to 5.0.\n",
    "\n",
    "25% of the time, the 2016 movies have between 4.0 and 4.25 vs 2015 is distributed between 4.0 to 4.5 Slight improvement from previous year is suggested.\n",
    "\n",
    "As per Hicky's analysis, there were almost no ratings less than 3.0. Now in 2016, there is a slight improvement of 3.14% increase in 2.5 ratings. Still, a vast majority, roughly 66% is 4.0 or above.\n"
   ]
  },
  {
   "cell_type": "markdown",
   "id": "2aba12c2",
   "metadata": {},
   "source": [
    "### Using Relative Frequency for Comparing Distribution\n",
    "\n",
    "Since the sample has different number of movies, it makes sense to use relative frequency rather than absolute when comparing their distribution.\n",
    "As per Hicky's analysis, there were almost no ratings less than 3.0. Now in 2016, there is a slight improvement of 3.14% increase in 2.5 ratings. Still, a vast majority, roughly 66% is 4.0 or above."
   ]
  },
  {
   "cell_type": "code",
   "execution_count": 17,
   "id": "8ecb6a9c",
   "metadata": {},
   "outputs": [
    {
     "data": {
      "text/plain": [
       "fandango\n",
       "4.0    40.314136\n",
       "4.5    24.607330\n",
       "3.5    24.083770\n",
       "3.0     7.329843\n",
       "2.5     3.141361\n",
       "5.0     0.523560\n",
       "Name: proportion, dtype: float64"
      ]
     },
     "execution_count": 17,
     "metadata": {},
     "output_type": "execute_result"
    }
   ],
   "source": [
    "movies_2016['fandango'].value_counts(normalize=True) * 100"
   ]
  },
  {
   "cell_type": "markdown",
   "id": "47a2fe97",
   "metadata": {},
   "source": [
    "Granular View"
   ]
  },
  {
   "cell_type": "code",
   "execution_count": 18,
   "id": "a0244ba5",
   "metadata": {},
   "outputs": [
    {
     "data": {
      "text/plain": [
       "<Figure size 1500x700 with 0 Axes>"
      ]
     },
     "execution_count": 18,
     "metadata": {},
     "output_type": "execute_result"
    },
    {
     "data": {
      "text/plain": [
       "<Axes: >"
      ]
     },
     "execution_count": 18,
     "metadata": {},
     "output_type": "execute_result"
    },
    {
     "data": {
      "text/plain": [
       "array([<Axes: ylabel='count'>], dtype=object)"
      ]
     },
     "execution_count": 18,
     "metadata": {},
     "output_type": "execute_result"
    },
    {
     "data": {
      "text/plain": [
       "Text(0.5, 1.0, 'Percentage Distribution of 2015 movies')"
      ]
     },
     "execution_count": 18,
     "metadata": {},
     "output_type": "execute_result"
    },
    {
     "data": {
      "text/plain": [
       "Text(0, 0.5, '')"
      ]
     },
     "execution_count": 18,
     "metadata": {},
     "output_type": "execute_result"
    },
    {
     "data": {
      "text/plain": [
       "<Axes: >"
      ]
     },
     "execution_count": 18,
     "metadata": {},
     "output_type": "execute_result"
    },
    {
     "data": {
      "text/plain": [
       "array([<Axes: ylabel='count'>], dtype=object)"
      ]
     },
     "execution_count": 18,
     "metadata": {},
     "output_type": "execute_result"
    },
    {
     "data": {
      "text/plain": [
       "Text(0.5, 1.0, 'Percentage Distribution of 2016 movies')"
      ]
     },
     "execution_count": 18,
     "metadata": {},
     "output_type": "execute_result"
    },
    {
     "data": {
      "text/plain": [
       "Text(0, 0.5, '')"
      ]
     },
     "execution_count": 18,
     "metadata": {},
     "output_type": "execute_result"
    },
    {
     "data": {
      "text/plain": [
       "<matplotlib.legend.Legend at 0x1810978bb50>"
      ]
     },
     "execution_count": 18,
     "metadata": {},
     "output_type": "execute_result"
    },
    {
     "data": {
      "image/png": "[encoded data removed]",
      "text/plain": [
       "<Figure size 1500x700 with 2 Axes>"
      ]
     },
     "metadata": {},
     "output_type": "display_data"
    }
   ],
   "source": [
    "plt.figure(figsize=(15, 7))\n",
    "\n",
    "plt.subplot(1, 2, 1)\n",
    "movies_2015['fandango_stars'].value_counts().sort_index(ascending=False).plot.pie(subplots=True, autopct='%.2f%%')\n",
    "\n",
    "plt.title('Percentage Distribution of 2015 movies')\n",
    "plt.ylabel('')\n",
    "\n",
    "plt.subplot(1, 2, 2)\n",
    "movies_2016['fandango'].value_counts().sort_index(ascending=False).plot.pie(subplots=True, autopct='%.2f%%')\n",
    "plt.title('Percentage Distribution of 2016 movies')\n",
    "plt.ylabel('')\n",
    "\n",
    "plt.legend(loc='upper right')\n",
    "plt.show()"
   ]
  },
  {
   "cell_type": "markdown",
   "id": "7b0a2c63",
   "metadata": {},
   "source": [
    "- Less than 1% is 5.0 stars in 2016 vs almost 7% in 2015.\n",
    "- Significant portion above 4.5 in 2015. In 2016 most bulk at 4.0, 4.5, and 3.5 respectively.\n",
    "\n",
    "Can us other pie charts for comparision??"
   ]
  },
  {
   "cell_type": "code",
   "execution_count": 19,
   "id": "32d0145d",
   "metadata": {},
   "outputs": [
    {
     "data": {
      "text/plain": [
       "<Axes: xlabel='fandango_stars', ylabel='Density'>"
      ]
     },
     "execution_count": 19,
     "metadata": {},
     "output_type": "execute_result"
    },
    {
     "data": {
      "image/png": "[encoded data removed]",
      "text/plain": [
       "<Figure size 640x480 with 1 Axes>"
      ]
     },
     "metadata": {},
     "output_type": "display_data"
    }
   ],
   "source": [
    "# Plot a relative frequency distribution\n",
    "# sns.kdeplot(data=movies_2015, x='fandango_stars', label='2015', fill=True)\n",
    "import numpy as np\n",
    "\n",
    "total_movies = len(movies_2015)\n",
    "proportions = movies_2015['fandango_stars'].value_counts(normalize=True).sort_index()\n",
    "\n",
    "# Plot the KDE with proportions\n",
    "sns.kdeplot(data=movies_2015, x='fandango_stars', label='2015', fill=True, weights=np.ones(total_movies) / total_movies)"
   ]
  },
  {
   "cell_type": "markdown",
   "id": "70c7ce81",
   "metadata": {},
   "source": [
    "### Determining the Direction of the Change\n",
    "\n",
    "The direction is not as clear as the kernel distribution.\n",
    "\n",
    "Comapre sumarry statsistic: mean, median, mode.\n"
   ]
  },
  {
   "cell_type": "code",
   "execution_count": 20,
   "id": "23d454f3",
   "metadata": {},
   "outputs": [
    {
     "data": {
      "text/html": [
       "<div>\n",
       "<style scoped>\n",
       "    .dataframe tbody tr th:only-of-type {\n",
       "        vertical-align: middle;\n",
       "    }\n",
       "\n",
       "    .dataframe tbody tr th {\n",
       "        vertical-align: top;\n",
       "    }\n",
       "\n",
       "    .dataframe thead th {\n",
       "        text-align: right;\n",
       "    }\n",
       "</style>\n",
       "<table border=\"1\" class=\"dataframe\">\n",
       "  <thead>\n",
       "    <tr style=\"text-align: right;\">\n",
       "      <th></th>\n",
       "      <th>mean</th>\n",
       "      <th>median</th>\n",
       "      <th>mode</th>\n",
       "    </tr>\n",
       "  </thead>\n",
       "  <tbody>\n",
       "    <tr>\n",
       "      <th>2015</th>\n",
       "      <td>NaN</td>\n",
       "      <td>NaN</td>\n",
       "      <td>NaN</td>\n",
       "    </tr>\n",
       "    <tr>\n",
       "      <th>2016</th>\n",
       "      <td>NaN</td>\n",
       "      <td>NaN</td>\n",
       "      <td>NaN</td>\n",
       "    </tr>\n",
       "  </tbody>\n",
       "</table>\n",
       "</div>"
      ],
      "text/plain": [
       "     mean median mode\n",
       "2015  NaN    NaN  NaN\n",
       "2016  NaN    NaN  NaN"
      ]
     },
     "execution_count": 20,
     "metadata": {},
     "output_type": "execute_result"
    }
   ],
   "source": [
    "df = pd.DataFrame([],\n",
    "                  index=('2015', '2016'),\n",
    "                  columns=('mean', 'median', 'mode'))\n",
    "\n",
    "# Print Mean, Median, Mode Summary Stats for any Series\n",
    "def generate_stats(data, title):\n",
    "    print(title + '\\n----------------')\n",
    "\n",
    "    data_mean = round(data.mean(), 1)\n",
    "    data_median = round(data.median(), 1)\n",
    "    data_mode = data.mode()[0]\n",
    "\n",
    "    # Add to dataframe\n",
    "    df.loc[title, ['mean', 'median', 'mode']] = [data_mean, data_median, data_mode]\n",
    "\n",
    "    print('Mean: {} \\nMedian: {} \\nMode {}\\n'.format(data_mean, data_median, data_mode))\n",
    "\n",
    "df\n"
   ]
  },
  {
   "cell_type": "code",
   "execution_count": 21,
   "id": "fe109a00",
   "metadata": {},
   "outputs": [
    {
     "name": "stdout",
     "output_type": "stream",
     "text": [
      "2015\n",
      "----------------\n",
      "Mean: 4.1 \n",
      "Median: 4.0 \n",
      "Mode 4.5\n",
      "\n",
      "2016\n",
      "----------------\n",
      "Mean: 3.9 \n",
      "Median: 4.0 \n",
      "Mode 4.0\n",
      "\n"
     ]
    },
    {
     "data": {
      "text/html": [
       "<div>\n",
       "<style scoped>\n",
       "    .dataframe tbody tr th:only-of-type {\n",
       "        vertical-align: middle;\n",
       "    }\n",
       "\n",
       "    .dataframe tbody tr th {\n",
       "        vertical-align: top;\n",
       "    }\n",
       "\n",
       "    .dataframe thead th {\n",
       "        text-align: right;\n",
       "    }\n",
       "</style>\n",
       "<table border=\"1\" class=\"dataframe\">\n",
       "  <thead>\n",
       "    <tr style=\"text-align: right;\">\n",
       "      <th></th>\n",
       "      <th>mean</th>\n",
       "      <th>median</th>\n",
       "      <th>mode</th>\n",
       "    </tr>\n",
       "  </thead>\n",
       "  <tbody>\n",
       "    <tr>\n",
       "      <th>2015</th>\n",
       "      <td>4.1</td>\n",
       "      <td>4.0</td>\n",
       "      <td>4.5</td>\n",
       "    </tr>\n",
       "    <tr>\n",
       "      <th>2016</th>\n",
       "      <td>3.9</td>\n",
       "      <td>4.0</td>\n",
       "      <td>4.0</td>\n",
       "    </tr>\n",
       "  </tbody>\n",
       "</table>\n",
       "</div>"
      ],
      "text/plain": [
       "     mean median mode\n",
       "2015  4.1    4.0  4.5\n",
       "2016  3.9    4.0  4.0"
      ]
     },
     "execution_count": 21,
     "metadata": {},
     "output_type": "execute_result"
    }
   ],
   "source": [
    "# Mean, median, mode of 2015 ratings\n",
    "generate_stats(movies_2015['fandango_stars'], '2015')\n",
    "\n",
    "# Mean, median, mode of 2016 ratings\n",
    "generate_stats(movies_2016['fandango'], '2016')\n",
    "\n",
    "df"
   ]
  },
  {
   "cell_type": "markdown",
   "id": "b7b95bd7",
   "metadata": {},
   "source": [
    "2015: \n",
    "* 50th percentile is 4.0 for both (50% <= the value)\n",
    "* Most frequent 4.5\n",
    "* Mean is 4.1 - meaning the higher ratings are pulling the mean to the right\n",
    "\n",
    "2016:\n",
    "* Most frequent is 4.0\n",
    "* Mean is pulled to the left: equal weight before 3.9 and after\n",
    "\n",
    "Direction of change: to the left slightly"
   ]
  },
  {
   "cell_type": "code",
   "execution_count": 22,
   "id": "f7a992df",
   "metadata": {},
   "outputs": [
    {
     "data": {
      "text/plain": [
       "<Axes: ylabel='mean'>"
      ]
     },
     "execution_count": 22,
     "metadata": {},
     "output_type": "execute_result"
    },
    {
     "data": {
      "text/plain": [
       "Text(0.5, 0, 'Rating')"
      ]
     },
     "execution_count": 22,
     "metadata": {},
     "output_type": "execute_result"
    },
    {
     "data": {
      "text/plain": [
       "<Axes: ylabel='median'>"
      ]
     },
     "execution_count": 22,
     "metadata": {},
     "output_type": "execute_result"
    },
    {
     "data": {
      "text/plain": [
       "Text(0.5, 0, 'Median')"
      ]
     },
     "execution_count": 22,
     "metadata": {},
     "output_type": "execute_result"
    },
    {
     "data": {
      "text/plain": [
       "<Axes: ylabel='mode'>"
      ]
     },
     "execution_count": 22,
     "metadata": {},
     "output_type": "execute_result"
    },
    {
     "data": {
      "text/plain": [
       "Text(0.5, 0, 'Mode')"
      ]
     },
     "execution_count": 22,
     "metadata": {},
     "output_type": "execute_result"
    },
    {
     "data": {
      "text/plain": [
       "Text(0.5, 1.0, '')"
      ]
     },
     "execution_count": 22,
     "metadata": {},
     "output_type": "execute_result"
    },
    {
     "data": {
      "text/plain": [
       "Text(0.5, 1.0, '')"
      ]
     },
     "execution_count": 22,
     "metadata": {},
     "output_type": "execute_result"
    },
    {
     "data": {
      "text/plain": [
       "Text(0.5, 1.0, '')"
      ]
     },
     "execution_count": 22,
     "metadata": {},
     "output_type": "execute_result"
    },
    {
     "data": {
      "image/png": "[encoded data removed]",
      "text/plain": [
       "<Figure size 1500x500 with 3 Axes>"
      ]
     },
     "metadata": {},
     "output_type": "display_data"
    }
   ],
   "source": [
    "# Grouped bar plot to compare stats\n",
    "\n",
    "# Create subplots with shared y-axis\n",
    "fig, axes = plt.subplots(1, 3, figsize=(15, 5), sharey=True)\n",
    "\n",
    "# Plot mean\n",
    "sns.barplot(data=df, y='mean', hue=df.index, ax=axes[0])\n",
    "axes[0].set_xlabel('Rating')\n",
    "\n",
    "# Plot median\n",
    "sns.barplot(data=df, y='median', hue=df.index, ax=axes[1])\n",
    "axes[1].set_xlabel('Median')\n",
    "\n",
    "# Plot mode\n",
    "sns.barplot(data=df, y='mode', hue=df.index, ax=axes[2])\n",
    "axes[2].set_xlabel('Mode')\n",
    "\n",
    "# Remove the redundant titles\n",
    "for ax in axes:\n",
    "    ax.set_title('')\n",
    "\n",
    "plt.tight_layout()  # Adjust layout to prevent overlap\n",
    "plt.show()"
   ]
  },
  {
   "cell_type": "markdown",
   "id": "75323677",
   "metadata": {},
   "source": [
    "## Conclusion\n",
    "\n",
    "There seem to be a slight difference in the Fandango's rating system in 2016 compared to 2015. On avaerage, more movies were rated lower. While the lowest rating in 2015 was 3.0, 2016 has ratings as low as 2.5. While Z% had a rating above 4.5 in 2015, the 2016 rating comprised of roughly % above 4.5, which is a significant change.\n",
    "\n",
    "Overall, the project concludes that althiugh there isn't a significant change in Fandango's system, they have likely made corrections after Hickey's analysis."
   ]
  }
 ],
 "metadata": {
  "kernelspec": {
   "display_name": "Python 3 (ipykernel)",
   "language": "python",
   "name": "python3"
  },
  "language_info": {
   "codemirror_mode": {
    "name": "ipython",
    "version": 3
   },
   "file_extension": ".py",
   "mimetype": "text/x-python",
   "name": "python",
   "nbconvert_exporter": "python",
   "pygments_lexer": "ipython3",
   "version": "3.9.2"
  }
 },
 "nbformat": 4,
 "nbformat_minor": 5
}
