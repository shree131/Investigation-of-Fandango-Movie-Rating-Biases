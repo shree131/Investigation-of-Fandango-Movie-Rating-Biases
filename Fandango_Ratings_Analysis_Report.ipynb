{
 "cells": [
  {
   "cell_type": "markdown",
   "id": "dd66325c-bbb9-4769-be86-85a22ffbf7c8",
   "metadata": {},
   "source": [
    "# Investigating Movie Rating Biases: A Case Study of Fandango\n",
    "\n",
    "In this study, we explore the presence of biases and potential dishonesty in online movie rating aggregators, with a specific focus on Fandango. Inspired by data journalist [Walt Hickey's in-depth analysis](https://fivethirtyeight.com/features/fandango-movies-ratings/) published in 2015, our aim is to scrutinize Fandango's rating data for any persistent patterns indicative of bias.\n",
    "\n",
    "Hickey's investigation uncovered significant irregularities within Fandango's rating system, including:\n",
    "\n",
    "* Consistent rounding up of ratings to the nearest half-star, without any instances of rounding down.\n",
    "* An overwhelming prevalence of high ratings; nearly no movies received ratings below three stars (98% of the time), with 75% of ratings falling within the four-star range or higher.\n",
    "\n",
    "**Why should we care?**\n",
    "\n",
    "Understanding the integrity of online movie ratings is crucial for several reasons:\n",
    "\n",
    "- The film industry is a **significant economic force**, generating billions annually at the U.S. box office. Consequently, the influence of online ratings aggregators on **consumer decisions** is substantial.\n",
    "- Fandango, as a prominent player in the movie ticketing market, has a **vested interest** in shaping consumer perceptions through its ratings. Their influence extends to direct ticket sales.\n",
    "- Regulatory bodies such as the **Federal Trade Commission** are vigilant in safeguarding consumers against deceptive and anti-competitive practices. Monitoring the online rating ecosystem for transparency and accountability is essential in ensuring **fair and transparent marketplace practices.**\n",
    "\n",
    "Building upon Hickey's findings, our project seeks to assess whether Fandango has implemented measures to address these biases as previously indicated, or if the observed patterns continue to persist within their rating system. We aim to contribute to a more transparent and accountable rating ecosystem, empowering consumers and regulatory bodies to make informed decisions."
   ]
  },
  {
   "cell_type": "markdown",
   "id": "290b0032-e210-47a1-b172-15436c1a71db",
   "metadata": {},
   "source": [
    "## Finding Suitable Datasets\n",
    "\n",
    "We've chosen to utilize two distinct datasets for our investigation. This approach allows us to compare and analyze Fandango's ratings both before and after Walt Hickey's influential 2015 analysis:\n",
    "\n",
    "1. **The 2015 Dataset**: We'll begin by examining the dataset originally collected by Walt Hickey as part of his comprehensive analysis. The dataset, [fandango_score_comparison.csv](https://github.com/fivethirtyeight/data/blob/master/fandango/fandango_score_comparison.csv), provides a snapshot of Fandango's rating practices before potential adjustments made in response to Hickey's findings.\n",
    "\n",
    "2. **The 2016-2017 Dataset**: In addition to Hickey's dataset, we'll also incorporate a dataset spanning the years 2016 to 2017. This dataset, [movie_ratings_16_17.csv](https://github.com/mircealex/Movie_ratings_2016_17/blob/master/movie_ratings_16_17.csv), provides a more recent perspective on Fandango's ratings landscape, allowing us to assess whether any changes or adjustments have occurred following Hickey's analysis.\n"
   ]
  },
  {
   "cell_type": "markdown",
   "id": "d6a0d5fc",
   "metadata": {},
   "source": [
    "### Load Essential Columns During Data Import\n",
    "After reviewing the documentation for both the [2015](https://github.com/fivethirtyeight/data/blob/master/fandango/README.md) and [2016-2017](https://github.com/mircealex/Movie_ratings_2016_17/blob/master/README.md) datasets, we've identified extraneous columns that won't contribute to our analysis. To streamline the dataset and ensure that only necessary information is loaded into memory, we'll retain the columns vital to our investigation."
   ]
  },
  {
   "cell_type": "code",
   "execution_count": 1,
   "id": "01fe9a3d",
   "metadata": {},
   "outputs": [],
   "source": [
    "# Config option to print all interactive output in a cell\n",
    "from IPython.core.interactiveshell import InteractiveShell\n",
    "\n",
    "InteractiveShell.ast_node_interactivity = \"all\""
   ]
  },
  {
   "cell_type": "code",
   "execution_count": 2,
   "id": "71c53ec4",
   "metadata": {},
   "outputs": [
    {
     "data": {
      "text/html": [
       "<div>\n",
       "<style scoped>\n",
       "    .dataframe tbody tr th:only-of-type {\n",
       "        vertical-align: middle;\n",
       "    }\n",
       "\n",
       "    .dataframe tbody tr th {\n",
       "        vertical-align: top;\n",
       "    }\n",
       "\n",
       "    .dataframe thead th {\n",
       "        text-align: right;\n",
       "    }\n",
       "</style>\n",
       "<table border=\"1\" class=\"dataframe\">\n",
       "  <thead>\n",
       "    <tr style=\"text-align: right;\">\n",
       "      <th></th>\n",
       "      <th>FILM</th>\n",
       "      <th>Fandango_Stars</th>\n",
       "      <th>Fandango_Ratingvalue</th>\n",
       "      <th>Fandango_votes</th>\n",
       "      <th>Fandango_Difference</th>\n",
       "    </tr>\n",
       "  </thead>\n",
       "  <tbody>\n",
       "    <tr>\n",
       "      <th>0</th>\n",
       "      <td>Avengers: Age of Ultron (2015)</td>\n",
       "      <td>5.0</td>\n",
       "      <td>4.5</td>\n",
       "      <td>14846</td>\n",
       "      <td>0.5</td>\n",
       "    </tr>\n",
       "    <tr>\n",
       "      <th>1</th>\n",
       "      <td>Cinderella (2015)</td>\n",
       "      <td>5.0</td>\n",
       "      <td>4.5</td>\n",
       "      <td>12640</td>\n",
       "      <td>0.5</td>\n",
       "    </tr>\n",
       "    <tr>\n",
       "      <th>2</th>\n",
       "      <td>Ant-Man (2015)</td>\n",
       "      <td>5.0</td>\n",
       "      <td>4.5</td>\n",
       "      <td>12055</td>\n",
       "      <td>0.5</td>\n",
       "    </tr>\n",
       "  </tbody>\n",
       "</table>\n",
       "</div>"
      ],
      "text/plain": [
       "                             FILM  Fandango_Stars  Fandango_Ratingvalue  \\\n",
       "0  Avengers: Age of Ultron (2015)             5.0                   4.5   \n",
       "1               Cinderella (2015)             5.0                   4.5   \n",
       "2                  Ant-Man (2015)             5.0                   4.5   \n",
       "\n",
       "   Fandango_votes  Fandango_Difference  \n",
       "0           14846                  0.5  \n",
       "1           12640                  0.5  \n",
       "2           12055                  0.5  "
      ]
     },
     "execution_count": 2,
     "metadata": {},
     "output_type": "execute_result"
    },
    {
     "data": {
      "text/html": [
       "<div>\n",
       "<style scoped>\n",
       "    .dataframe tbody tr th:only-of-type {\n",
       "        vertical-align: middle;\n",
       "    }\n",
       "\n",
       "    .dataframe tbody tr th {\n",
       "        vertical-align: top;\n",
       "    }\n",
       "\n",
       "    .dataframe thead th {\n",
       "        text-align: right;\n",
       "    }\n",
       "</style>\n",
       "<table border=\"1\" class=\"dataframe\">\n",
       "  <thead>\n",
       "    <tr style=\"text-align: right;\">\n",
       "      <th></th>\n",
       "      <th>FILM</th>\n",
       "      <th>Fandango_Stars</th>\n",
       "      <th>Fandango_Ratingvalue</th>\n",
       "      <th>Fandango_votes</th>\n",
       "      <th>Fandango_Difference</th>\n",
       "    </tr>\n",
       "  </thead>\n",
       "  <tbody>\n",
       "    <tr>\n",
       "      <th>143</th>\n",
       "      <td>Two Days, One Night (2014)</td>\n",
       "      <td>3.5</td>\n",
       "      <td>3.5</td>\n",
       "      <td>118</td>\n",
       "      <td>0.0</td>\n",
       "    </tr>\n",
       "    <tr>\n",
       "      <th>144</th>\n",
       "      <td>Gett: The Trial of Viviane Amsalem (2015)</td>\n",
       "      <td>3.5</td>\n",
       "      <td>3.5</td>\n",
       "      <td>59</td>\n",
       "      <td>0.0</td>\n",
       "    </tr>\n",
       "    <tr>\n",
       "      <th>145</th>\n",
       "      <td>Kumiko, The Treasure Hunter (2015)</td>\n",
       "      <td>3.5</td>\n",
       "      <td>3.5</td>\n",
       "      <td>41</td>\n",
       "      <td>0.0</td>\n",
       "    </tr>\n",
       "  </tbody>\n",
       "</table>\n",
       "</div>"
      ],
      "text/plain": [
       "                                          FILM  Fandango_Stars  \\\n",
       "143                 Two Days, One Night (2014)             3.5   \n",
       "144  Gett: The Trial of Viviane Amsalem (2015)             3.5   \n",
       "145         Kumiko, The Treasure Hunter (2015)             3.5   \n",
       "\n",
       "     Fandango_Ratingvalue  Fandango_votes  Fandango_Difference  \n",
       "143                   3.5             118                  0.0  \n",
       "144                   3.5              59                  0.0  \n",
       "145                   3.5              41                  0.0  "
      ]
     },
     "execution_count": 2,
     "metadata": {},
     "output_type": "execute_result"
    }
   ],
   "source": [
    "import pandas as pd\n",
    "\n",
    "# Columns to import from first dataset\n",
    "columns = ['FILM', 'Fandango_Stars', 'Fandango_Ratingvalue', 'Fandango_votes', 'Fandango_Difference']\n",
    "\n",
    "# Import dataset prior to Hickey's analysis\n",
    "movies_prior = pd.read_csv('./dataset/fandango_score_comparison.csv', usecols=columns)\n",
    "\n",
    "movies_prior.head(3)\n",
    "movies_prior.tail(3)"
   ]
  },
  {
   "cell_type": "code",
   "execution_count": 3,
   "id": "11c936ec",
   "metadata": {},
   "outputs": [
    {
     "data": {
      "text/html": [
       "<div>\n",
       "<style scoped>\n",
       "    .dataframe tbody tr th:only-of-type {\n",
       "        vertical-align: middle;\n",
       "    }\n",
       "\n",
       "    .dataframe tbody tr th {\n",
       "        vertical-align: top;\n",
       "    }\n",
       "\n",
       "    .dataframe thead th {\n",
       "        text-align: right;\n",
       "    }\n",
       "</style>\n",
       "<table border=\"1\" class=\"dataframe\">\n",
       "  <thead>\n",
       "    <tr style=\"text-align: right;\">\n",
       "      <th></th>\n",
       "      <th>movie</th>\n",
       "      <th>year</th>\n",
       "      <th>fandango</th>\n",
       "    </tr>\n",
       "  </thead>\n",
       "  <tbody>\n",
       "    <tr>\n",
       "      <th>0</th>\n",
       "      <td>10 Cloverfield Lane</td>\n",
       "      <td>2016</td>\n",
       "      <td>3.5</td>\n",
       "    </tr>\n",
       "    <tr>\n",
       "      <th>1</th>\n",
       "      <td>13 Hours</td>\n",
       "      <td>2016</td>\n",
       "      <td>4.5</td>\n",
       "    </tr>\n",
       "    <tr>\n",
       "      <th>2</th>\n",
       "      <td>A Cure for Wellness</td>\n",
       "      <td>2016</td>\n",
       "      <td>3.0</td>\n",
       "    </tr>\n",
       "  </tbody>\n",
       "</table>\n",
       "</div>"
      ],
      "text/plain": [
       "                 movie  year  fandango\n",
       "0  10 Cloverfield Lane  2016       3.5\n",
       "1             13 Hours  2016       4.5\n",
       "2  A Cure for Wellness  2016       3.0"
      ]
     },
     "execution_count": 3,
     "metadata": {},
     "output_type": "execute_result"
    },
    {
     "data": {
      "text/html": [
       "<div>\n",
       "<style scoped>\n",
       "    .dataframe tbody tr th:only-of-type {\n",
       "        vertical-align: middle;\n",
       "    }\n",
       "\n",
       "    .dataframe tbody tr th {\n",
       "        vertical-align: top;\n",
       "    }\n",
       "\n",
       "    .dataframe thead th {\n",
       "        text-align: right;\n",
       "    }\n",
       "</style>\n",
       "<table border=\"1\" class=\"dataframe\">\n",
       "  <thead>\n",
       "    <tr style=\"text-align: right;\">\n",
       "      <th></th>\n",
       "      <th>movie</th>\n",
       "      <th>year</th>\n",
       "      <th>fandango</th>\n",
       "    </tr>\n",
       "  </thead>\n",
       "  <tbody>\n",
       "    <tr>\n",
       "      <th>211</th>\n",
       "      <td>xXx: Return of Xander Cage</td>\n",
       "      <td>2017</td>\n",
       "      <td>4.0</td>\n",
       "    </tr>\n",
       "    <tr>\n",
       "      <th>212</th>\n",
       "      <td>Zoolander 2</td>\n",
       "      <td>2016</td>\n",
       "      <td>2.5</td>\n",
       "    </tr>\n",
       "    <tr>\n",
       "      <th>213</th>\n",
       "      <td>Zootopia</td>\n",
       "      <td>2016</td>\n",
       "      <td>4.5</td>\n",
       "    </tr>\n",
       "  </tbody>\n",
       "</table>\n",
       "</div>"
      ],
      "text/plain": [
       "                          movie  year  fandango\n",
       "211  xXx: Return of Xander Cage  2017       4.0\n",
       "212                 Zoolander 2  2016       2.5\n",
       "213                    Zootopia  2016       4.5"
      ]
     },
     "execution_count": 3,
     "metadata": {},
     "output_type": "execute_result"
    }
   ],
   "source": [
    "# Columns to import for second dataset\n",
    "columns = ['movie', 'year', 'fandango']\n",
    "\n",
    "# Import dataset after Hickey's analysis\n",
    "movies_after = pd.read_csv('./dataset/movie_ratings_16_17.csv', usecols=columns)\n",
    "\n",
    "movies_after.head(3)\n",
    "movies_after.tail(3)"
   ]
  },
  {
   "cell_type": "markdown",
   "id": "3eaa2ed4",
   "metadata": {},
   "source": [
    "Now, we'll get a high-level overview of both datasets, providing a basic understanding of the structure and content of each dataset."
   ]
  },
  {
   "cell_type": "code",
   "execution_count": 4,
   "id": "bd96bbd4",
   "metadata": {},
   "outputs": [
    {
     "data": {
      "text/plain": [
       "'---------- 2015 Dataset ----------->'"
      ]
     },
     "execution_count": 4,
     "metadata": {},
     "output_type": "execute_result"
    },
    {
     "name": "stdout",
     "output_type": "stream",
     "text": [
      "<class 'pandas.core.frame.DataFrame'>\n",
      "RangeIndex: 146 entries, 0 to 145\n",
      "Data columns (total 5 columns):\n",
      " #   Column                Non-Null Count  Dtype  \n",
      "---  ------                --------------  -----  \n",
      " 0   FILM                  146 non-null    object \n",
      " 1   Fandango_Stars        146 non-null    float64\n",
      " 2   Fandango_Ratingvalue  146 non-null    float64\n",
      " 3   Fandango_votes        146 non-null    int64  \n",
      " 4   Fandango_Difference   146 non-null    float64\n",
      "dtypes: float64(3), int64(1), object(1)\n",
      "memory usage: 5.8+ KB\n"
     ]
    },
    {
     "data": {
      "text/plain": [
       "'<-------- 2016-2017 Dataset ------->'"
      ]
     },
     "execution_count": 4,
     "metadata": {},
     "output_type": "execute_result"
    },
    {
     "name": "stdout",
     "output_type": "stream",
     "text": [
      "<class 'pandas.core.frame.DataFrame'>\n",
      "RangeIndex: 214 entries, 0 to 213\n",
      "Data columns (total 3 columns):\n",
      " #   Column    Non-Null Count  Dtype  \n",
      "---  ------    --------------  -----  \n",
      " 0   movie     214 non-null    object \n",
      " 1   year      214 non-null    int64  \n",
      " 2   fandango  214 non-null    float64\n",
      "dtypes: float64(1), int64(1), object(1)\n",
      "memory usage: 5.1+ KB\n"
     ]
    }
   ],
   "source": [
    "'---------- 2015 Dataset ----------->'\n",
    "movies_prior.info()\n",
    "\n",
    "'<-------- 2016-2017 Dataset ------->'\n",
    "movies_after.info()"
   ]
  },
  {
   "cell_type": "markdown",
   "id": "1b41710d",
   "metadata": {},
   "source": [
    "**Initial Observations:**\n",
    "\n",
    "* The first dataset comprises 146 entries (movies) spread across 5 columns, while the second dataset consists of 214 entries (movies) and 3 columns.\n",
    "* Both datasets exhibit completeness, with no missing values observed (non-null counts align with the total number of entries).\n",
    "* Data types are consistent with the documentation and are optimal for our analysis needs.\n",
    "* There is a disparity in the naming conventions of the column headers between the two datasets. Standardizing them would maintain consistency and clarity throughout the report.\n",
    "* The first dataset has the year in paenthesis in the movie name. We'll want to clean this up by isolating the movie name and separating the year into a different column."
   ]
  },
  {
   "cell_type": "markdown",
   "id": "8a58d482",
   "metadata": {},
   "source": [
    "### Adjust Initial Goal to Minimize Sampling Error\n",
    "\n",
    "**Methodology:**\n",
    "1. **Data Collection:**\n",
    "* fandango_score_comparison.csv: Contains data on every film with **at least 30 fan reviews** on Fandango, collected in **2015**.\n",
    "* movie_ratings_16_17.csv: Consists of movie ratings data for **214 popular movies** released in **2016** and **2017**.\n",
    "\n",
    "2. **Population of Interest:** Fandango's entire movie dataset.\n",
    "\n",
    "3. **Sampling Approach:** Recognize that both datasets are not obtained through random sampling and may not be representative of the population of interest.\n",
    "\n",
    "4. **Adjusted Analysis:** Instead of investigating changes in Fandango's rating system over time, we will compare Fandango's ratings for popular movies **(30 reviews and up)** in **2015** and **2016**. This approach allows us to explore potential differences in ratings between the two time periods.\n",
    "\n",
    "5. **Adjusted Population of Interest:** All Fandango's ratings for popular movies released in 2015 and 2016.\n",
    "\n",
    "Given the limitations of the available datasets and the non-random sampling processes involved, we have refined our project goal to focus on comparing Fandango's ratings for popular movies in 2015 and 2016. This adjustment allows us to leverage the available data effectively while minimizing the risk of drawing inaccurate conclusions due to sampling bias."
   ]
  },
  {
   "cell_type": "markdown",
   "id": "85b333d5",
   "metadata": {},
   "source": [
    "## Data Cleaning and Preparation\n",
    "\n",
    "To prepare the data for analysis, we'll undertake the following steps:\n",
    "\n",
    "1. **Standardize Column Names:** Clean up the column names to ensure consistency across both datasets.\n",
    "2. **Assess Sample Representativeness:** Check if the samples contain a sufficient number of popular movies to accurately represent the population.\n",
    "3. **Extract Release Year:** Extract the release year from the movie titles and store it in a separate column.\n",
    "4. **Filter Data:** Isolate sample points corresponding to movies released in 2015 and 2016, as they are our population of interest."
   ]
  },
  {
   "cell_type": "markdown",
   "id": "2012bf81",
   "metadata": {},
   "source": [
    "### 1. Standardize Column Names\n",
    "\n",
    "We'll standardize the column names to lowercase and match names for similar columns."
   ]
  },
  {
   "cell_type": "code",
   "execution_count": 5,
   "id": "8432783e",
   "metadata": {},
   "outputs": [
    {
     "data": {
      "text/plain": [
       "Index(['movie', 'fandango_stars', 'fandango_rating_value', 'fandango_votes',\n",
       "       'fandango_difference'],\n",
       "      dtype='object')"
      ]
     },
     "execution_count": 5,
     "metadata": {},
     "output_type": "execute_result"
    }
   ],
   "source": [
    "# Change first dataset's column header to lowercase\n",
    "movies_prior.columns = movies_prior.columns.str.lower()\n",
    "\n",
    "# Map the column headers to the desired names\n",
    "movies_prior.rename(columns={'fandango_ratingvalue': 'fandango_rating_value', 'film': 'movie'}, inplace=True)\n",
    "\n",
    "# Display updated column header\n",
    "movies_prior.columns"
   ]
  },
  {
   "cell_type": "markdown",
   "id": "d0a18f62",
   "metadata": {},
   "source": [
    "### 2. Assess Sample Representativeness\n",
    "\n",
    "We'll assess the representativeness of our sample by checking if the movies included have a rating of 30 or higher to match the defined expectation of *popular* movies. We'll begin with the first dataset."
   ]
  },
  {
   "cell_type": "code",
   "execution_count": 6,
   "id": "88d37feb",
   "metadata": {},
   "outputs": [
    {
     "data": {
      "text/plain": [
       "0"
      ]
     },
     "execution_count": 6,
     "metadata": {},
     "output_type": "execute_result"
    }
   ],
   "source": [
    "# Check the number of movies with less than 30 fan reviews\n",
    "movies_prior.loc[movies_prior['fandango_votes'] < 30, 'movie'].count()"
   ]
  },
  {
   "cell_type": "code",
   "execution_count": 7,
   "id": "61ec69d5",
   "metadata": {},
   "outputs": [
    {
     "data": {
      "text/plain": [
       "'Range: [35 - 34846]'"
      ]
     },
     "execution_count": 7,
     "metadata": {},
     "output_type": "execute_result"
    }
   ],
   "source": [
    "# Get the min and max reviews in the first dataset\n",
    "min_reviews = movies_prior['fandango_votes'].min()\n",
    "max_reviews = movies_prior['fandango_votes'].max()\n",
    "\n",
    "# Display the range\n",
    "'Range: [{} - {}]'.format(min_reviews, max_reviews)"
   ]
  },
  {
   "cell_type": "markdown",
   "id": "b6981e18",
   "metadata": {},
   "source": [
    "In the first dataset (prior to Hickey's analysis), none of the movies have fewer than 30 reviews; their review counts range from 35 to 34,846. This aligns with our definition of *popular* movies within our population of interest.\n",
    "\n",
    "However, the documentation for the second dataset does not explicitly define the criteria for *popular* movies, which raises concerns about its representativeness. To address this issue, we can attempt to merge the two datasets and examine whether they share any common movies. This comparison could provide further insights into the popularity criteria used in the second dataset."
   ]
  },
  {
   "cell_type": "markdown",
   "id": "77f058be",
   "metadata": {},
   "source": [
    "**Merge the datasets to compare fan reviews:**"
   ]
  },
  {
   "cell_type": "code",
   "execution_count": 8,
   "id": "2c21c798",
   "metadata": {},
   "outputs": [
    {
     "data": {
      "text/plain": [
       "Series([], Name: count, dtype: int64)"
      ]
     },
     "execution_count": 8,
     "metadata": {},
     "output_type": "execute_result"
    }
   ],
   "source": [
    "# Merge the two dataset: Keep all movies from the second dataset and common movies from the first\n",
    "merged_data = pd.merge(left=movies_after, right=movies_prior, how='inner', on='movie')\n",
    "\n",
    "merged_data['fandango_votes'].value_counts(dropna=False)"
   ]
  },
  {
   "cell_type": "markdown",
   "id": "db026927",
   "metadata": {},
   "source": [
    "The absence of common movies between the two datasets presents a challenge. To overcome this, we'll explore alternative methods for assessing the representativeness of the second dataset. One approach is to take a sample from the second dataset and manually check the fan reviews on the website. This method should provide us with a reasonable estimation of the popularity criteria used in the second dataset."
   ]
  },
  {
   "cell_type": "markdown",
   "id": "d7d583ea",
   "metadata": {},
   "source": [
    "**Generate sample movies to compare fan reviews:**"
   ]
  },
  {
   "cell_type": "code",
   "execution_count": 9,
   "id": "72d42925",
   "metadata": {},
   "outputs": [
    {
     "data": {
      "text/html": [
       "<div>\n",
       "<style scoped>\n",
       "    .dataframe tbody tr th:only-of-type {\n",
       "        vertical-align: middle;\n",
       "    }\n",
       "\n",
       "    .dataframe tbody tr th {\n",
       "        vertical-align: top;\n",
       "    }\n",
       "\n",
       "    .dataframe thead th {\n",
       "        text-align: right;\n",
       "    }\n",
       "</style>\n",
       "<table border=\"1\" class=\"dataframe\">\n",
       "  <thead>\n",
       "    <tr style=\"text-align: right;\">\n",
       "      <th></th>\n",
       "      <th>movie</th>\n",
       "      <th>year</th>\n",
       "      <th>fandango</th>\n",
       "    </tr>\n",
       "  </thead>\n",
       "  <tbody>\n",
       "    <tr>\n",
       "      <th>108</th>\n",
       "      <td>Mechanic: Resurrection</td>\n",
       "      <td>2016</td>\n",
       "      <td>4.0</td>\n",
       "    </tr>\n",
       "    <tr>\n",
       "      <th>206</th>\n",
       "      <td>Warcraft</td>\n",
       "      <td>2016</td>\n",
       "      <td>4.0</td>\n",
       "    </tr>\n",
       "    <tr>\n",
       "      <th>106</th>\n",
       "      <td>Max Steel</td>\n",
       "      <td>2016</td>\n",
       "      <td>3.5</td>\n",
       "    </tr>\n",
       "    <tr>\n",
       "      <th>107</th>\n",
       "      <td>Me Before You</td>\n",
       "      <td>2016</td>\n",
       "      <td>4.5</td>\n",
       "    </tr>\n",
       "    <tr>\n",
       "      <th>51</th>\n",
       "      <td>Fantastic Beasts and Where to Find Them</td>\n",
       "      <td>2016</td>\n",
       "      <td>4.5</td>\n",
       "    </tr>\n",
       "    <tr>\n",
       "      <th>33</th>\n",
       "      <td>Cell</td>\n",
       "      <td>2016</td>\n",
       "      <td>3.0</td>\n",
       "    </tr>\n",
       "    <tr>\n",
       "      <th>59</th>\n",
       "      <td>Genius</td>\n",
       "      <td>2016</td>\n",
       "      <td>3.5</td>\n",
       "    </tr>\n",
       "    <tr>\n",
       "      <th>152</th>\n",
       "      <td>Sully</td>\n",
       "      <td>2016</td>\n",
       "      <td>4.5</td>\n",
       "    </tr>\n",
       "    <tr>\n",
       "      <th>4</th>\n",
       "      <td>A Hologram for the King</td>\n",
       "      <td>2016</td>\n",
       "      <td>3.0</td>\n",
       "    </tr>\n",
       "    <tr>\n",
       "      <th>31</th>\n",
       "      <td>Captain America: Civil War</td>\n",
       "      <td>2016</td>\n",
       "      <td>4.5</td>\n",
       "    </tr>\n",
       "  </tbody>\n",
       "</table>\n",
       "</div>"
      ],
      "text/plain": [
       "                                       movie  year  fandango\n",
       "108                   Mechanic: Resurrection  2016       4.0\n",
       "206                                 Warcraft  2016       4.0\n",
       "106                                Max Steel  2016       3.5\n",
       "107                            Me Before You  2016       4.5\n",
       "51   Fantastic Beasts and Where to Find Them  2016       4.5\n",
       "33                                      Cell  2016       3.0\n",
       "59                                    Genius  2016       3.5\n",
       "152                                    Sully  2016       4.5\n",
       "4                    A Hologram for the King  2016       3.0\n",
       "31                Captain America: Civil War  2016       4.5"
      ]
     },
     "execution_count": 9,
     "metadata": {},
     "output_type": "execute_result"
    }
   ],
   "source": [
    "# Generate 10 samples from the second dataset\n",
    "movies_after.sample(10, random_state=1)"
   ]
  },
  {
   "cell_type": "markdown",
   "id": "ee781cb5",
   "metadata": {},
   "source": [
    "Above we used a value of 1 as the random seed. This is good practice because it suggests that we weren't trying out various random seeds just to get a favorable sample.\n",
    "\n",
    "<table cellspacing=\"0\" cellpadding=\"5\" style=\"background-color: #ffffff;\">\n",
    "  <tr>\n",
    "    <th style=\"background-color: #cccccc;\">Movie</th>\n",
    "    <th style=\"background-color: #cccccc;\">Fan Ratings</th>\n",
    "  </tr>\n",
    "  <tr>\n",
    "    <td style=\"background-color: #f2f2f2;\">Mechanic: Resurrection</td>\n",
    "    <td style=\"background-color: #f2f2f2;\">2,247</td>\n",
    "  </tr>\n",
    "  <tr>\n",
    "    <td>Warcraft</td>\n",
    "    <td>7,271</td>\n",
    "  </tr>\n",
    "  <tr>\n",
    "    <td style=\"background-color: #f2f2f2;\">Max Steel</td>\n",
    "    <td style=\"background-color: #f2f2f2;\">493</td>\n",
    "  </tr>\n",
    "  <tr>\n",
    "    <td>Me Before You</td>\n",
    "    <td>5,263</td>\n",
    "  </tr>\n",
    "  <tr>\n",
    "    <td style=\"background-color: #f2f2f2;\">Fantastic Beasts and Where to Find Them</td>\n",
    "    <td style=\"background-color: #f2f2f2;\">13,400</td>\n",
    "  </tr>\n",
    "  <tr>\n",
    "    <td>Cell</td>\n",
    "    <td>17</td>\n",
    "  </tr>\n",
    "  <tr>\n",
    "    <td style=\"background-color: #f2f2f2;\">Genius</td>\n",
    "    <td style=\"background-color: #f2f2f2;\">127</td>\n",
    "  </tr>\n",
    "  <tr>\n",
    "    <td>Sully</td>\n",
    "    <td>11,877</td>\n",
    "  </tr>\n",
    "  <tr>\n",
    "    <td style=\"background-color: #f2f2f2;\">A Hologram for the King</td>\n",
    "    <td style=\"background-color: #f2f2f2;\">500</td>\n",
    "  </tr>\n",
    "  <tr>\n",
    "    <td>Captain America: Civil War</td>\n",
    "    <td>35,057</td>\n",
    "  </tr>\n",
    "</table>\n"
   ]
  },
  {
   "cell_type": "markdown",
   "id": "0532fdad",
   "metadata": {},
   "source": [
    "90% of the movies in our sample are popular, which provides a solid basis for moving forward with your analysis. It suggests that your dataset likely captures a representative portion of the population of interest. "
   ]
  },
  {
   "cell_type": "markdown",
   "id": "3afe1e5c",
   "metadata": {},
   "source": [
    "### 3. Extract Release Year\n",
    "\n",
    "We now want to refine the movie column in the first dataset by isolating the movie title and extracting the release year from each `movie` column. This step will facilitate future analysis, allowing us to cross-reference the release years of movies to ensure the representativeness of our dataset."
   ]
  },
  {
   "cell_type": "code",
   "execution_count": 10,
   "id": "33b60798",
   "metadata": {},
   "outputs": [
    {
     "data": {
      "text/html": [
       "<div>\n",
       "<style scoped>\n",
       "    .dataframe tbody tr th:only-of-type {\n",
       "        vertical-align: middle;\n",
       "    }\n",
       "\n",
       "    .dataframe tbody tr th {\n",
       "        vertical-align: top;\n",
       "    }\n",
       "\n",
       "    .dataframe thead th {\n",
       "        text-align: right;\n",
       "    }\n",
       "</style>\n",
       "<table border=\"1\" class=\"dataframe\">\n",
       "  <thead>\n",
       "    <tr style=\"text-align: right;\">\n",
       "      <th></th>\n",
       "      <th>movie</th>\n",
       "      <th>fandango_stars</th>\n",
       "      <th>fandango_rating_value</th>\n",
       "      <th>fandango_votes</th>\n",
       "      <th>fandango_difference</th>\n",
       "      <th>year</th>\n",
       "    </tr>\n",
       "  </thead>\n",
       "  <tbody>\n",
       "    <tr>\n",
       "      <th>0</th>\n",
       "      <td>Avengers: Age of Ultron</td>\n",
       "      <td>5.0</td>\n",
       "      <td>4.5</td>\n",
       "      <td>14846</td>\n",
       "      <td>0.5</td>\n",
       "      <td>2015</td>\n",
       "    </tr>\n",
       "    <tr>\n",
       "      <th>1</th>\n",
       "      <td>Cinderella</td>\n",
       "      <td>5.0</td>\n",
       "      <td>4.5</td>\n",
       "      <td>12640</td>\n",
       "      <td>0.5</td>\n",
       "      <td>2015</td>\n",
       "    </tr>\n",
       "    <tr>\n",
       "      <th>2</th>\n",
       "      <td>Ant-Man</td>\n",
       "      <td>5.0</td>\n",
       "      <td>4.5</td>\n",
       "      <td>12055</td>\n",
       "      <td>0.5</td>\n",
       "      <td>2015</td>\n",
       "    </tr>\n",
       "    <tr>\n",
       "      <th>3</th>\n",
       "      <td>Do You Believe?</td>\n",
       "      <td>5.0</td>\n",
       "      <td>4.5</td>\n",
       "      <td>1793</td>\n",
       "      <td>0.5</td>\n",
       "      <td>2015</td>\n",
       "    </tr>\n",
       "    <tr>\n",
       "      <th>4</th>\n",
       "      <td>Hot Tub Time Machine 2</td>\n",
       "      <td>3.5</td>\n",
       "      <td>3.0</td>\n",
       "      <td>1021</td>\n",
       "      <td>0.5</td>\n",
       "      <td>2015</td>\n",
       "    </tr>\n",
       "    <tr>\n",
       "      <th>...</th>\n",
       "      <td>...</td>\n",
       "      <td>...</td>\n",
       "      <td>...</td>\n",
       "      <td>...</td>\n",
       "      <td>...</td>\n",
       "      <td>...</td>\n",
       "    </tr>\n",
       "    <tr>\n",
       "      <th>141</th>\n",
       "      <td>Mr. Holmes</td>\n",
       "      <td>4.0</td>\n",
       "      <td>4.0</td>\n",
       "      <td>1348</td>\n",
       "      <td>0.0</td>\n",
       "      <td>2015</td>\n",
       "    </tr>\n",
       "    <tr>\n",
       "      <th>142</th>\n",
       "      <td>'71</td>\n",
       "      <td>3.5</td>\n",
       "      <td>3.5</td>\n",
       "      <td>192</td>\n",
       "      <td>0.0</td>\n",
       "      <td>2015</td>\n",
       "    </tr>\n",
       "    <tr>\n",
       "      <th>143</th>\n",
       "      <td>Two Days, One Night</td>\n",
       "      <td>3.5</td>\n",
       "      <td>3.5</td>\n",
       "      <td>118</td>\n",
       "      <td>0.0</td>\n",
       "      <td>2014</td>\n",
       "    </tr>\n",
       "    <tr>\n",
       "      <th>144</th>\n",
       "      <td>Gett: The Trial of Viviane Amsalem</td>\n",
       "      <td>3.5</td>\n",
       "      <td>3.5</td>\n",
       "      <td>59</td>\n",
       "      <td>0.0</td>\n",
       "      <td>2015</td>\n",
       "    </tr>\n",
       "    <tr>\n",
       "      <th>145</th>\n",
       "      <td>Kumiko, The Treasure Hunter</td>\n",
       "      <td>3.5</td>\n",
       "      <td>3.5</td>\n",
       "      <td>41</td>\n",
       "      <td>0.0</td>\n",
       "      <td>2015</td>\n",
       "    </tr>\n",
       "  </tbody>\n",
       "</table>\n",
       "<p>146 rows × 6 columns</p>\n",
       "</div>"
      ],
      "text/plain": [
       "                                   movie  fandango_stars  \\\n",
       "0               Avengers: Age of Ultron              5.0   \n",
       "1                            Cinderella              5.0   \n",
       "2                               Ant-Man              5.0   \n",
       "3                       Do You Believe?              5.0   \n",
       "4                Hot Tub Time Machine 2              3.5   \n",
       "..                                   ...             ...   \n",
       "141                          Mr. Holmes              4.0   \n",
       "142                                 '71              3.5   \n",
       "143                 Two Days, One Night              3.5   \n",
       "144  Gett: The Trial of Viviane Amsalem              3.5   \n",
       "145         Kumiko, The Treasure Hunter              3.5   \n",
       "\n",
       "     fandango_rating_value  fandango_votes  fandango_difference  year  \n",
       "0                      4.5           14846                  0.5  2015  \n",
       "1                      4.5           12640                  0.5  2015  \n",
       "2                      4.5           12055                  0.5  2015  \n",
       "3                      4.5            1793                  0.5  2015  \n",
       "4                      3.0            1021                  0.5  2015  \n",
       "..                     ...             ...                  ...   ...  \n",
       "141                    4.0            1348                  0.0  2015  \n",
       "142                    3.5             192                  0.0  2015  \n",
       "143                    3.5             118                  0.0  2014  \n",
       "144                    3.5              59                  0.0  2015  \n",
       "145                    3.5              41                  0.0  2015  \n",
       "\n",
       "[146 rows x 6 columns]"
      ]
     },
     "execution_count": 10,
     "metadata": {},
     "output_type": "execute_result"
    }
   ],
   "source": [
    "# Define regex pattern for year\n",
    "year_pattern = r\"(?P<year>[1-2][0-9]{3})\"\n",
    "\n",
    "# Extract the year and store it in a column\n",
    "movies_prior['year'] = movies_prior['movie'].str.extract(year_pattern)\n",
    "\n",
    "# Extract movie to store in a column\n",
    "movies_prior['movie'] = movies_prior['movie'].str.split('(').str[0]\n",
    "\n",
    "movies_prior"
   ]
  },
  {
   "cell_type": "code",
   "execution_count": 11,
   "id": "9400bb7d",
   "metadata": {},
   "outputs": [
    {
     "name": "stdout",
     "output_type": "stream",
     "text": [
      "---------- First Dataset -------\n"
     ]
    },
    {
     "data": {
      "text/plain": [
       "year\n",
       "2015    129\n",
       "2014     17\n",
       "Name: count, dtype: int64"
      ]
     },
     "execution_count": 11,
     "metadata": {},
     "output_type": "execute_result"
    },
    {
     "name": "stdout",
     "output_type": "stream",
     "text": [
      "---------- Second Dataset -------\n"
     ]
    },
    {
     "data": {
      "text/plain": [
       "year\n",
       "2016    191\n",
       "2017     23\n",
       "Name: count, dtype: int64"
      ]
     },
     "execution_count": 11,
     "metadata": {},
     "output_type": "execute_result"
    }
   ],
   "source": [
    "# First dataset frequency distribution\n",
    "print('---------- First Dataset -------')\n",
    "movies_prior['year'].value_counts()\n",
    "\n",
    "# Second dataset frequency distribution\n",
    "print('---------- Second Dataset -------')\n",
    "movies_after['year'].value_counts()"
   ]
  },
  {
   "cell_type": "markdown",
   "id": "1e07a0e9",
   "metadata": {},
   "source": [
    "We've observed that certain movies fall outside the expected range of years within our defined population of interest. This divergence prompts us to investigate further and potentially exclude these outliers from our analysis."
   ]
  },
  {
   "cell_type": "markdown",
   "id": "54802a5d",
   "metadata": {},
   "source": [
    "### 3. Filter 2015 and 2016 Data\n",
    "\n",
    "Now that the movie name and the year are in separate columns, we can determine the number of movies released outside of 2015 and 2016. We'll start by discarding the outliers and isolating the data for movies released in 2015 for the first dataset."
   ]
  },
  {
   "cell_type": "code",
   "execution_count": 12,
   "id": "452e4349",
   "metadata": {},
   "outputs": [
    {
     "data": {
      "text/plain": [
       "year\n",
       "2015    129\n",
       "Name: count, dtype: int64"
      ]
     },
     "execution_count": 12,
     "metadata": {},
     "output_type": "execute_result"
    }
   ],
   "source": [
    "movies_2015 = movies_prior[movies_prior['year'] == '2015']\n",
    "\n",
    "movies_2015['year'].value_counts()"
   ]
  },
  {
   "cell_type": "markdown",
   "id": "84fe3817",
   "metadata": {},
   "source": [
    "We'll repeat the process for the second dataset and isolate the data for movies released in 2016."
   ]
  },
  {
   "cell_type": "code",
   "execution_count": 13,
   "id": "7213d459",
   "metadata": {},
   "outputs": [
    {
     "data": {
      "text/plain": [
       "year\n",
       "2016    191\n",
       "Name: count, dtype: int64"
      ]
     },
     "execution_count": 13,
     "metadata": {},
     "output_type": "execute_result"
    }
   ],
   "source": [
    "movies_2016 = movies_after[movies_after['year'] == 2016]\n",
    "\n",
    "movies_2016['year'].value_counts()"
   ]
  },
  {
   "cell_type": "markdown",
   "id": "86f787b1",
   "metadata": {},
   "source": [
    "## A Comparison of 2015 and 2016 Movies\n",
    "To compare the datasets, we'll be performing the following steps:\n",
    "1. Analyze Fandango rating distributions using a Kernel Density Plot.\n",
    "2. Examine relative frequency distributions for a detailed view.\n",
    "3. Determine the direction of change using key statistics.\n",
    "4. Visualize statistical insights with a grouped bar plot."
   ]
  },
  {
   "cell_type": "markdown",
   "id": "90b08ff3",
   "metadata": {},
   "source": [
    "### Analyze Fandango Rating Distributions Using a Kernel Density Plot: \n",
    "\n",
    "To gain insight into potential changes in Fandango's rating distribution between 2015 and 2016, we'll begin with a high-level comparison of the two datasets using kernel density plots. Our goal is to visualize and compare the distribution shapes of movie ratings in each year."
   ]
  },
  {
   "cell_type": "code",
   "execution_count": 23,
   "id": "31d434f5",
   "metadata": {},
   "outputs": [
    {
     "data": {
      "image/png": "[encoded data removed]",
      "text/plain": [
       "<Figure size 640x480 with 1 Axes>"
      ]
     },
     "metadata": {},
     "output_type": "display_data"
    }
   ],
   "source": [
    "import seaborn as sns, matplotlib.pyplot as plt\n",
    "from numpy import arange\n",
    "%matplotlib inline\n",
    "plt.style.use('_classic_test_patch')\n",
    "palette_colors = sns.color_palette('RdYlBu')\n",
    "\n",
    "# Plot kernel distribution estimate plots for 2015 and 2016 data\n",
    "sns.kdeplot(data=movies_2015, x='fandango_stars', label='2015', fill=True)\n",
    "sns.kdeplot(data=movies_2016, x='fandango', label='2016', fill=True)\n",
    "\n",
    "#movies_2015['fandango_stars'].plot.kde(label = '2015', legend = True, figsize = (8,5.5))\n",
    "#movies_2016['fandango'].plot.kde(label = '2016', legend = True)\n",
    "\n",
    "# Customize the visualization\n",
    "plt.title('Rating Distribution in 2015 and 2016', size='x-large')\n",
    "plt.xlabel('Rating')\n",
    "plt.xlim(0, 5)\n",
    "plt.xticks(arange(0.0, 5.1, .5))\n",
    "plt.legend()\n",
    "\n",
    "plt.show();"
   ]
  },
  {
   "cell_type": "markdown",
   "id": "1e53a486",
   "metadata": {},
   "source": [
    "**Observations:**\n",
    "\n",
    "* Both distributions display a heavy left skew, suggesting a prevalence of higher ratings.\n",
    "* The distribution for 2016 appears closer to a normal distribution with a mean around 4.0, whereas the 2015 distribution is slightly more left-skewed.\n",
    "* A noticeable shift to the left is evident in the 2016 distribution compared to 2015. This indicates a directional difference: ratings in 2016 were marginally lower than in 2015."
   ]
  },
  {
   "cell_type": "markdown",
   "id": "ecc71698",
   "metadata": {},
   "source": [
    "Now, we'll take a granular look at the statistics for both dataset."
   ]
  },
  {
   "cell_type": "code",
   "execution_count": 15,
   "id": "4052693e",
   "metadata": {},
   "outputs": [
    {
     "data": {
      "text/plain": [
       "count    129.000000\n",
       "mean       4.085271\n",
       "std        0.538096\n",
       "min        3.000000\n",
       "25%        3.500000\n",
       "50%        4.000000\n",
       "75%        4.500000\n",
       "max        5.000000\n",
       "Name: fandango_stars, dtype: float64"
      ]
     },
     "execution_count": 15,
     "metadata": {},
     "output_type": "execute_result"
    }
   ],
   "source": [
    "movies_2015['fandango_stars'].describe()"
   ]
  },
  {
   "cell_type": "code",
   "execution_count": 16,
   "id": "471bd243",
   "metadata": {},
   "outputs": [
    {
     "data": {
      "text/plain": [
       "count    191.000000\n",
       "mean       3.887435\n",
       "std        0.509540\n",
       "min        2.500000\n",
       "25%        3.500000\n",
       "50%        4.000000\n",
       "75%        4.250000\n",
       "max        5.000000\n",
       "Name: fandango, dtype: float64"
      ]
     },
     "execution_count": 16,
     "metadata": {},
     "output_type": "execute_result"
    }
   ],
   "source": [
    "movies_2016['fandango'].describe()"
   ]
  },
  {
   "cell_type": "markdown",
   "id": "3cd95158",
   "metadata": {},
   "source": [
    "* The 2016 dataset exhibits slightly more variability in ratings between 2.5 and 5.0 compared to 2015, where ratings primarily range from 3.0 to 5.0.\n",
    "* Around 25% of the time, movies in 2016 receive ratings between 4.0 and 4.25, whereas in 2015, this range is between 4.0 and 4.5. This suggests a lower rating distribution in 2016.\n"
   ]
  },
  {
   "cell_type": "markdown",
   "id": "2aba12c2",
   "metadata": {},
   "source": [
    "### Examine Relative Frequency Distributions for a Detailed View\n",
    "\n",
    "Given the different number of movies in each sample, employing relative frequency rather than absolute values is more appropriate for comparing their distributions. To begin, let's normalize the data by examining the relative frequency distribution of 2016 movies."
   ]
  },
  {
   "cell_type": "code",
   "execution_count": 17,
   "id": "8ecb6a9c",
   "metadata": {},
   "outputs": [
    {
     "data": {
      "text/plain": [
       "fandango\n",
       "4.0    40.314136\n",
       "4.5    24.607330\n",
       "3.5    24.083770\n",
       "3.0     7.329843\n",
       "2.5     3.141361\n",
       "5.0     0.523560\n",
       "Name: proportion, dtype: float64"
      ]
     },
     "execution_count": 17,
     "metadata": {},
     "output_type": "execute_result"
    }
   ],
   "source": [
    "# Normalize 2016 data\n",
    "movies_2016['fandango'].value_counts(normalize=True) * 100"
   ]
  },
  {
   "cell_type": "markdown",
   "id": "f8bbe0e7",
   "metadata": {},
   "source": [
    "In contrast to Hickey's analysis, which showed almost no ratings less than 3.0, the 2016 dataset reflects a slight improvement, with a 3.14% increase in 2.5 ratings. However, the vast majority, roughly 66%, still receive ratings of 4.0 or above. \n",
    "\n",
    "Next, we'll visually compare the relative frequency distribution of 2015 and 2016 movie ratings by plotting a pie chart within the same grid."
   ]
  },
  {
   "cell_type": "code",
   "execution_count": 18,
   "id": "a0244ba5",
   "metadata": {},
   "outputs": [
    {
     "data": {
      "image/png": "[encoded data removed]",
      "text/plain": [
       "<Figure size 1500x700 with 2 Axes>"
      ]
     },
     "metadata": {},
     "output_type": "display_data"
    }
   ],
   "source": [
    "plt.figure(figsize=(15, 7))\n",
    "\n",
    "# Plot the 2015 movie rating in a pie chart\n",
    "plt.subplot(1, 2, 1)\n",
    "movies_2015['fandango_stars'].value_counts().sort_index(ascending=False).plot.pie(subplots=True, autopct='%.2f%%', colors=palette_colors)\n",
    "\n",
    "# Customize visualization\n",
    "plt.title('Distribution of 2015 movies')\n",
    "plt.ylabel('')\n",
    "\n",
    "# Plot the 2016 movie rating in a pie chart\n",
    "plt.subplot(1, 2, 2)\n",
    "movies_2016['fandango'].value_counts().sort_index(ascending=False).plot.pie(subplots=True, autopct='%.2f%%', colors=palette_colors)\n",
    "\n",
    "# Customize visualization\n",
    "plt.title('Distribution of 2016 movies')\n",
    "plt.ylabel('')\n",
    "\n",
    "plt.legend(loc='upper right')\n",
    "plt.show();"
   ]
  },
  {
   "cell_type": "markdown",
   "id": "7b0a2c63",
   "metadata": {},
   "source": [
    "**Observations:**\n",
    "* In 2016, less than 1% of movies receive a 5.0-star rating, compared to almost 7% in 2015, indicating a significant decrease in higher ratings.\n",
    "* A significant portion (44.96%) of ratings in 2015 are above 4.5 stars. In contrast, the majority (89%) of ratings in 2016 are distributed at 4.0, 4.5, and 3.5 stars.\n",
    "* Despite slight differences, the proportion of ratings at or below 3.0 stars is not significantly higher in 2016 (10.47%) compared to 2015 (8.53%), with a marginal difference of 1.94%."
   ]
  },
  {
   "cell_type": "markdown",
   "id": "70c7ce81",
   "metadata": {},
   "source": [
    "### Determine the Direction of Change Using Key Statistics\n",
    "\n",
    "While the pie chart provided detailed distribution information, it may not offer as clear a visual indication of the direction of change as the kernel density plot. Let's compare summary statistics, including mean, median, and mode, to gain further insight into the direction of the change between 2015 and 2016."
   ]
  },
  {
   "cell_type": "code",
   "execution_count": 19,
   "id": "23d454f3",
   "metadata": {},
   "outputs": [
    {
     "data": {
      "text/html": [
       "<div>\n",
       "<style scoped>\n",
       "    .dataframe tbody tr th:only-of-type {\n",
       "        vertical-align: middle;\n",
       "    }\n",
       "\n",
       "    .dataframe tbody tr th {\n",
       "        vertical-align: top;\n",
       "    }\n",
       "\n",
       "    .dataframe thead th {\n",
       "        text-align: right;\n",
       "    }\n",
       "</style>\n",
       "<table border=\"1\" class=\"dataframe\">\n",
       "  <thead>\n",
       "    <tr style=\"text-align: right;\">\n",
       "      <th></th>\n",
       "      <th>mean</th>\n",
       "      <th>median</th>\n",
       "      <th>mode</th>\n",
       "    </tr>\n",
       "  </thead>\n",
       "  <tbody>\n",
       "    <tr>\n",
       "      <th>2015</th>\n",
       "      <td>NaN</td>\n",
       "      <td>NaN</td>\n",
       "      <td>NaN</td>\n",
       "    </tr>\n",
       "    <tr>\n",
       "      <th>2016</th>\n",
       "      <td>NaN</td>\n",
       "      <td>NaN</td>\n",
       "      <td>NaN</td>\n",
       "    </tr>\n",
       "  </tbody>\n",
       "</table>\n",
       "</div>"
      ],
      "text/plain": [
       "     mean median mode\n",
       "2015  NaN    NaN  NaN\n",
       "2016  NaN    NaN  NaN"
      ]
     },
     "execution_count": 19,
     "metadata": {},
     "output_type": "execute_result"
    }
   ],
   "source": [
    "# Create an empty dataframe for the mean, median, and mode of 2015 and 2016 ratings\n",
    "stats = pd.DataFrame([],\n",
    "                  index=('2015', '2016'),\n",
    "                  columns=('mean', 'median', 'mode'))\n",
    "\n",
    "# Function to display the summary statistics for a series\n",
    "def generate_stats(data, year):\n",
    "    print(year + '\\n----------------')\n",
    "\n",
    "    # Calculate the mean, median, and mode of given data\n",
    "    data_mean = round(data.mean(), 1)\n",
    "    data_median = round(data.median(), 1)\n",
    "    data_mode = data.mode()[0]\n",
    "\n",
    "    # Add values to the dataframe\n",
    "    stats.loc[year, ['mean', 'median', 'mode']] = [data_mean, data_median, data_mode]\n",
    "\n",
    "    print('Mean: {} \\nMedian: {} \\nMode {}\\n'.format(data_mean, data_median, data_mode))\n",
    "\n",
    "stats\n"
   ]
  },
  {
   "cell_type": "code",
   "execution_count": 20,
   "id": "fe109a00",
   "metadata": {},
   "outputs": [
    {
     "name": "stdout",
     "output_type": "stream",
     "text": [
      "2015\n",
      "----------------\n",
      "Mean: 4.1 \n",
      "Median: 4.0 \n",
      "Mode 4.5\n",
      "\n",
      "2016\n",
      "----------------\n",
      "Mean: 3.9 \n",
      "Median: 4.0 \n",
      "Mode 4.0\n",
      "\n"
     ]
    }
   ],
   "source": [
    "# Mean, median, mode of 2015 ratings\n",
    "generate_stats(movies_2015['fandango_stars'], '2015')\n",
    "\n",
    "# Mean, median, mode of 2016 ratings\n",
    "generate_stats(movies_2016['fandango'], '2016')"
   ]
  },
  {
   "cell_type": "markdown",
   "id": "b7b95bd7",
   "metadata": {},
   "source": [
    "**Observations:**\n",
    "The 50th percentile is 4.0, indicating that 50% of the ratings are less than or equal to this value for both years.\n",
    "The most frequent rating is 4.5 in 2015, while it's half a rating lower in 2016.\n",
    "In 2015, the mean rating of 4.1 indicates that higher ratings are pulling the mean towards the right. Conversely, in 2016, the mean rating is slightly lower at 3.9, suggesting a shift towards the left in the ratings distribution.\n",
    "\n",
    "Overall, there is a noticeable shift to the left in the ratings distribution from 2015 to 2016."
   ]
  },
  {
   "cell_type": "markdown",
   "id": "adba534f",
   "metadata": {},
   "source": [
    "### 4. Visualize Statistical Insights with a Grouped Bar Plot"
   ]
  },
  {
   "cell_type": "code",
   "execution_count": 21,
   "id": "d223b6c1",
   "metadata": {},
   "outputs": [
    {
     "data": {
      "text/html": [
       "<div>\n",
       "<style scoped>\n",
       "    .dataframe tbody tr th:only-of-type {\n",
       "        vertical-align: middle;\n",
       "    }\n",
       "\n",
       "    .dataframe tbody tr th {\n",
       "        vertical-align: top;\n",
       "    }\n",
       "\n",
       "    .dataframe thead th {\n",
       "        text-align: right;\n",
       "    }\n",
       "</style>\n",
       "<table border=\"1\" class=\"dataframe\">\n",
       "  <thead>\n",
       "    <tr style=\"text-align: right;\">\n",
       "      <th></th>\n",
       "      <th>mean</th>\n",
       "      <th>median</th>\n",
       "      <th>mode</th>\n",
       "    </tr>\n",
       "  </thead>\n",
       "  <tbody>\n",
       "    <tr>\n",
       "      <th>2015</th>\n",
       "      <td>4.1</td>\n",
       "      <td>4.0</td>\n",
       "      <td>4.5</td>\n",
       "    </tr>\n",
       "    <tr>\n",
       "      <th>2016</th>\n",
       "      <td>3.9</td>\n",
       "      <td>4.0</td>\n",
       "      <td>4.0</td>\n",
       "    </tr>\n",
       "  </tbody>\n",
       "</table>\n",
       "</div>"
      ],
      "text/plain": [
       "     mean median mode\n",
       "2015  4.1    4.0  4.5\n",
       "2016  3.9    4.0  4.0"
      ]
     },
     "execution_count": 21,
     "metadata": {},
     "output_type": "execute_result"
    }
   ],
   "source": [
    "# Display the contents of the stats dataframe\n",
    "stats"
   ]
  },
  {
   "cell_type": "code",
   "execution_count": 22,
   "id": "b23672b7",
   "metadata": {},
   "outputs": [
    {
     "data": {
      "image/png": "[encoded data removed]",
      "text/plain": [
       "<Figure size 1000x500 with 1 Axes>"
      ]
     },
     "metadata": {},
     "output_type": "display_data"
    }
   ],
   "source": [
    "# Grouped bar plot to compare stats between 2015 and 2016 ratings\n",
    "plt.figure(figsize=(10, 5))\n",
    "\n",
    "# Plot 2015 statistical summary\n",
    "stats.loc['2015'].plot.bar(color=palette_colors[0], align='center', label='2015')\n",
    "\n",
    "# Plot 2015 statistical summary\n",
    "stats.loc['2016'].plot.bar(color=palette_colors[1], align='edge', label='2016', rot=0)\n",
    "\n",
    "plt.title('Comparing summary statistics: 2015 vs 2016')\n",
    "plt.ylim(0, 5)\n",
    "plt.ylabel('Ratings')\n",
    "plt.yticks(arange(0, 5.0, .5))\n",
    "plt.legend(loc='upper center')\n",
    "plt.show();"
   ]
  },
  {
   "cell_type": "markdown",
   "id": "75323677",
   "metadata": {},
   "source": [
    "## Conclusion\n",
    "\n",
    "A subtle difference appears in Fandango's rating system between 2016 and 2015. On average, movies in 2016 received slightly lower ratings compared to 2015, with ratings as low as 2.5 in 2016 compared to a minimum of 3.0 in 2015. Notably, the proportion of movies rated above 4.5 decreased noticeably in 2016 compared to 2015, indicating a significant change in the distribution of ratings.\n",
    "\n",
    "Overall, while the analysis does not reveal a significant alteration in Fandango's rating system, it suggests that corrections may have been implemented following Hickey's analysis."
   ]
  }
 ],
 "metadata": {
  "kernelspec": {
   "display_name": "Python 3 (ipykernel)",
   "language": "python",
   "name": "python3"
  },
  "language_info": {
   "codemirror_mode": {
    "name": "ipython",
    "version": 3
   },
   "file_extension": ".py",
   "mimetype": "text/x-python",
   "name": "python",
   "nbconvert_exporter": "python",
   "pygments_lexer": "ipython3",
   "version": "3.9.2"
  }
 },
 "nbformat": 4,
 "nbformat_minor": 5
}
